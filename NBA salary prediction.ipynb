{
 "cells": [
  {
   "cell_type": "markdown",
   "metadata": {},
   "source": [
    "# Introduction"
   ]
  },
  {
   "cell_type": "markdown",
   "metadata": {},
   "source": [
    "NBA is one of the four majors sports competitions in America. It is very competitive, and all teams want to attract the best players. Imagine that your team is trying to hire a new player; how can we compare him with other players, and how much should you offer to get the best deal? \n",
    "\n",
    "That project aims to help you answer these questions. More precisely, we make an in-depth statistical analysis of NBA players. Additionally, we will build machine learning models to predict a player's salary. As expected, a player's salary depends on many factors such as his positions, his performance, the home team, and many more. \n",
    "\n",
    "\n",
    "We will use a public dataset to train and test our models. It can be downloaded from this <a href=\"http://web.grinnell.edu/individuals/kuipers/stat2labs/NBA.html\"> website </a>\n",
    "\n",
    "\n",
    "This file contains an intensive list of variables. Here are some that we find interesting (please see the file a complete list of all variables. Alternatively, we can see them on <a href= \"https://en.wikipedia.org/wiki/Basketball_statistics\"> Wikipedia </a> as well). We list here some of these variables. \n",
    "\n",
    "3P:\tAverage number of shots made from beyond the 3-point line.\n",
    "\n",
    "FT:\tAverage number of Free Throws made per game.\n",
    "\n",
    "AST: Average number of Assists per game.\n",
    "\n",
    "PF\tAverage number of Personal Fouls per game.\n"
   ]
  },
  {
   "cell_type": "markdown",
   "metadata": {},
   "source": [
    "# Part 1: An overview of the dataset."
   ]
  },
  {
   "cell_type": "markdown",
   "metadata": {},
   "source": [
    "In this part, we will make a quick glimpse at the data. First, we import several relevant packages."
   ]
  },
  {
   "cell_type": "code",
   "execution_count": 229,
   "metadata": {},
   "outputs": [],
   "source": [
    "import pandas as pd\n",
    "import numpy as np\n",
    "import matplotlib.pyplot as plt\n",
    "import seaborn as sns\n",
    "%matplotlib inline\n",
    "import statsmodels.stats.api as sms\n",
    "import sklearn\n",
    "from sklearn.model_selection import train_test_split \n",
    "from sklearn import preprocessing\n",
    "from sklearn.linear_model import LinearRegression\n",
    "from sklearn.linear_model import Ridge\n",
    "import statsmodels.api as sm\n",
    "from scipy import stats\n",
    "from sklearn.neighbors import KNeighborsRegressor\n",
    "from IPython.core.pylabtools import figsize\n",
    "from sklearn.metrics import mean_squared_error\n",
    "from sklearn.tree import DecisionTreeRegressor\n",
    "from sklearn.neighbors import KNeighborsRegressor\n",
    "from sklearn.ensemble import RandomForestRegressor \n",
    "from sklearn.model_selection import RepeatedStratifiedKFold\n",
    "from sklearn.model_selection import GridSearchCV\n",
    "from sklearn.ensemble import GradientBoostingRegressor"
   ]
  },
  {
   "cell_type": "markdown",
   "metadata": {},
   "source": [
    "Next, we open the excel file containing the relevant data."
   ]
  },
  {
   "cell_type": "code",
   "execution_count": 2,
   "metadata": {},
   "outputs": [
    {
     "data": {
      "text/html": [
       "<div>\n",
       "<style scoped>\n",
       "    .dataframe tbody tr th:only-of-type {\n",
       "        vertical-align: middle;\n",
       "    }\n",
       "\n",
       "    .dataframe tbody tr th {\n",
       "        vertical-align: top;\n",
       "    }\n",
       "\n",
       "    .dataframe thead th {\n",
       "        text-align: right;\n",
       "    }\n",
       "</style>\n",
       "<table border=\"1\" class=\"dataframe\">\n",
       "  <thead>\n",
       "    <tr style=\"text-align: right;\">\n",
       "      <th></th>\n",
       "      <th>Year</th>\n",
       "      <th>Player</th>\n",
       "      <th>Position</th>\n",
       "      <th>Team</th>\n",
       "      <th>Salary</th>\n",
       "      <th>Length of Contract</th>\n",
       "      <th>Age</th>\n",
       "      <th>G</th>\n",
       "      <th>GS</th>\n",
       "      <th>MP</th>\n",
       "      <th>...</th>\n",
       "      <th>STL%</th>\n",
       "      <th>BLK%</th>\n",
       "      <th>TOV%</th>\n",
       "      <th>USG%</th>\n",
       "      <th>ORtg</th>\n",
       "      <th>DRtg</th>\n",
       "      <th>OWS</th>\n",
       "      <th>DWS</th>\n",
       "      <th>WS</th>\n",
       "      <th>WS/48</th>\n",
       "    </tr>\n",
       "  </thead>\n",
       "  <tbody>\n",
       "    <tr>\n",
       "      <th>0</th>\n",
       "      <td>2012-2013</td>\n",
       "      <td>Blake Griffin</td>\n",
       "      <td>Forward</td>\n",
       "      <td>Los Angeles Clippers</td>\n",
       "      <td>18668431</td>\n",
       "      <td>5</td>\n",
       "      <td>23</td>\n",
       "      <td>80</td>\n",
       "      <td>80</td>\n",
       "      <td>32.5</td>\n",
       "      <td>...</td>\n",
       "      <td>2.0</td>\n",
       "      <td>1.6</td>\n",
       "      <td>12.8</td>\n",
       "      <td>25.4</td>\n",
       "      <td>114</td>\n",
       "      <td>102</td>\n",
       "      <td>6.8</td>\n",
       "      <td>3.9</td>\n",
       "      <td>10.6</td>\n",
       "      <td>0.196</td>\n",
       "    </tr>\n",
       "    <tr>\n",
       "      <th>1</th>\n",
       "      <td>2012-2013</td>\n",
       "      <td>Chris Paul</td>\n",
       "      <td>Guard</td>\n",
       "      <td>Los Angeles Clippers</td>\n",
       "      <td>16441500</td>\n",
       "      <td>5</td>\n",
       "      <td>27</td>\n",
       "      <td>70</td>\n",
       "      <td>70</td>\n",
       "      <td>33.4</td>\n",
       "      <td>...</td>\n",
       "      <td>3.8</td>\n",
       "      <td>0.4</td>\n",
       "      <td>13.7</td>\n",
       "      <td>22.6</td>\n",
       "      <td>127</td>\n",
       "      <td>102</td>\n",
       "      <td>10.6</td>\n",
       "      <td>3.4</td>\n",
       "      <td>13.9</td>\n",
       "      <td>0.287</td>\n",
       "    </tr>\n",
       "    <tr>\n",
       "      <th>2</th>\n",
       "      <td>2012-2013</td>\n",
       "      <td>JJ Redick</td>\n",
       "      <td>Guard</td>\n",
       "      <td>Los Angeles Clippers</td>\n",
       "      <td>10079404</td>\n",
       "      <td>4</td>\n",
       "      <td>28</td>\n",
       "      <td>78</td>\n",
       "      <td>13</td>\n",
       "      <td>30.5</td>\n",
       "      <td>...</td>\n",
       "      <td>0.8</td>\n",
       "      <td>0.3</td>\n",
       "      <td>12.5</td>\n",
       "      <td>20.8</td>\n",
       "      <td>111</td>\n",
       "      <td>113</td>\n",
       "      <td>4.0</td>\n",
       "      <td>0.5</td>\n",
       "      <td>4.5</td>\n",
       "      <td>0.091</td>\n",
       "    </tr>\n",
       "    <tr>\n",
       "      <th>3</th>\n",
       "      <td>2010-2011</td>\n",
       "      <td>DeAndre Jordan</td>\n",
       "      <td>Center</td>\n",
       "      <td>Los Angeles Clippers</td>\n",
       "      <td>6500000</td>\n",
       "      <td>4</td>\n",
       "      <td>22</td>\n",
       "      <td>80</td>\n",
       "      <td>66</td>\n",
       "      <td>25.6</td>\n",
       "      <td>...</td>\n",
       "      <td>1.0</td>\n",
       "      <td>5.4</td>\n",
       "      <td>18.8</td>\n",
       "      <td>11.7</td>\n",
       "      <td>116</td>\n",
       "      <td>105</td>\n",
       "      <td>2.6</td>\n",
       "      <td>2.6</td>\n",
       "      <td>5.2</td>\n",
       "      <td>0.122</td>\n",
       "    </tr>\n",
       "    <tr>\n",
       "      <th>4</th>\n",
       "      <td>2011-2012</td>\n",
       "      <td>Jamal Crawford</td>\n",
       "      <td>Guard</td>\n",
       "      <td>Los Angeles Clippers</td>\n",
       "      <td>5000000</td>\n",
       "      <td>4</td>\n",
       "      <td>31</td>\n",
       "      <td>60</td>\n",
       "      <td>6</td>\n",
       "      <td>26.9</td>\n",
       "      <td>...</td>\n",
       "      <td>1.8</td>\n",
       "      <td>0.7</td>\n",
       "      <td>11.8</td>\n",
       "      <td>26.6</td>\n",
       "      <td>102</td>\n",
       "      <td>109</td>\n",
       "      <td>1.6</td>\n",
       "      <td>0.7</td>\n",
       "      <td>2.3</td>\n",
       "      <td>0.069</td>\n",
       "    </tr>\n",
       "  </tbody>\n",
       "</table>\n",
       "<p>5 rows × 51 columns</p>\n",
       "</div>"
      ],
      "text/plain": [
       "        Year          Player Position                  Team    Salary  \\\n",
       "0  2012-2013   Blake Griffin  Forward  Los Angeles Clippers  18668431   \n",
       "1  2012-2013      Chris Paul    Guard  Los Angeles Clippers  16441500   \n",
       "2  2012-2013       JJ Redick    Guard  Los Angeles Clippers  10079404   \n",
       "3  2010-2011  DeAndre Jordan   Center  Los Angeles Clippers   6500000   \n",
       "4  2011-2012  Jamal Crawford    Guard  Los Angeles Clippers   5000000   \n",
       "\n",
       "   Length of Contract  Age   G  GS    MP  ...  STL%  BLK%  TOV%  USG%  ORtg  \\\n",
       "0                   5   23  80  80  32.5  ...   2.0   1.6  12.8  25.4   114   \n",
       "1                   5   27  70  70  33.4  ...   3.8   0.4  13.7  22.6   127   \n",
       "2                   4   28  78  13  30.5  ...   0.8   0.3  12.5  20.8   111   \n",
       "3                   4   22  80  66  25.6  ...   1.0   5.4  18.8  11.7   116   \n",
       "4                   4   31  60   6  26.9  ...   1.8   0.7  11.8  26.6   102   \n",
       "\n",
       "   DRtg   OWS  DWS    WS  WS/48  \n",
       "0   102   6.8  3.9  10.6  0.196  \n",
       "1   102  10.6  3.4  13.9  0.287  \n",
       "2   113   4.0  0.5   4.5  0.091  \n",
       "3   105   2.6  2.6   5.2  0.122  \n",
       "4   109   1.6  0.7   2.3  0.069  \n",
       "\n",
       "[5 rows x 51 columns]"
      ]
     },
     "execution_count": 2,
     "metadata": {},
     "output_type": "execute_result"
    }
   ],
   "source": [
    "df=pd.read_excel(\"NBA Salary Data.xlsx\")\n",
    "df.head()"
   ]
  },
  {
   "cell_type": "markdown",
   "metadata": {},
   "source": [
    "Let us have an overivew of the dataset. "
   ]
  },
  {
   "cell_type": "code",
   "execution_count": 3,
   "metadata": {},
   "outputs": [
    {
     "data": {
      "text/html": [
       "<div>\n",
       "<style scoped>\n",
       "    .dataframe tbody tr th:only-of-type {\n",
       "        vertical-align: middle;\n",
       "    }\n",
       "\n",
       "    .dataframe tbody tr th {\n",
       "        vertical-align: top;\n",
       "    }\n",
       "\n",
       "    .dataframe thead th {\n",
       "        text-align: right;\n",
       "    }\n",
       "</style>\n",
       "<table border=\"1\" class=\"dataframe\">\n",
       "  <thead>\n",
       "    <tr style=\"text-align: right;\">\n",
       "      <th></th>\n",
       "      <th>Salary</th>\n",
       "      <th>Length of Contract</th>\n",
       "      <th>Age</th>\n",
       "      <th>G</th>\n",
       "      <th>GS</th>\n",
       "      <th>MP</th>\n",
       "      <th>FG</th>\n",
       "      <th>FGA</th>\n",
       "      <th>FG%</th>\n",
       "      <th>3P</th>\n",
       "      <th>...</th>\n",
       "      <th>STL%</th>\n",
       "      <th>BLK%</th>\n",
       "      <th>TOV%</th>\n",
       "      <th>USG%</th>\n",
       "      <th>ORtg</th>\n",
       "      <th>DRtg</th>\n",
       "      <th>OWS</th>\n",
       "      <th>DWS</th>\n",
       "      <th>WS</th>\n",
       "      <th>WS/48</th>\n",
       "    </tr>\n",
       "  </thead>\n",
       "  <tbody>\n",
       "    <tr>\n",
       "      <th>count</th>\n",
       "      <td>2.160000e+02</td>\n",
       "      <td>216.000000</td>\n",
       "      <td>216.000000</td>\n",
       "      <td>216.000000</td>\n",
       "      <td>216.000000</td>\n",
       "      <td>216.000000</td>\n",
       "      <td>216.000000</td>\n",
       "      <td>216.000000</td>\n",
       "      <td>216.000000</td>\n",
       "      <td>216.000000</td>\n",
       "      <td>...</td>\n",
       "      <td>216.00000</td>\n",
       "      <td>216.000000</td>\n",
       "      <td>216.000000</td>\n",
       "      <td>216.000000</td>\n",
       "      <td>216.000000</td>\n",
       "      <td>216.000000</td>\n",
       "      <td>216.000000</td>\n",
       "      <td>216.000000</td>\n",
       "      <td>216.000000</td>\n",
       "      <td>216.000000</td>\n",
       "    </tr>\n",
       "    <tr>\n",
       "      <th>mean</th>\n",
       "      <td>5.856375e+06</td>\n",
       "      <td>3.148148</td>\n",
       "      <td>26.814815</td>\n",
       "      <td>61.583333</td>\n",
       "      <td>33.824074</td>\n",
       "      <td>25.119907</td>\n",
       "      <td>4.067130</td>\n",
       "      <td>8.814815</td>\n",
       "      <td>0.460949</td>\n",
       "      <td>0.725000</td>\n",
       "      <td>...</td>\n",
       "      <td>1.52037</td>\n",
       "      <td>1.781944</td>\n",
       "      <td>13.339815</td>\n",
       "      <td>19.810185</td>\n",
       "      <td>107.277778</td>\n",
       "      <td>105.898148</td>\n",
       "      <td>2.412037</td>\n",
       "      <td>1.728241</td>\n",
       "      <td>4.140741</td>\n",
       "      <td>0.107241</td>\n",
       "    </tr>\n",
       "    <tr>\n",
       "      <th>std</th>\n",
       "      <td>4.751402e+06</td>\n",
       "      <td>1.429359</td>\n",
       "      <td>3.732069</td>\n",
       "      <td>19.726089</td>\n",
       "      <td>29.657213</td>\n",
       "      <td>8.455306</td>\n",
       "      <td>2.166099</td>\n",
       "      <td>4.488690</td>\n",
       "      <td>0.072920</td>\n",
       "      <td>0.731628</td>\n",
       "      <td>...</td>\n",
       "      <td>0.61011</td>\n",
       "      <td>1.652707</td>\n",
       "      <td>4.588103</td>\n",
       "      <td>5.199444</td>\n",
       "      <td>9.647107</td>\n",
       "      <td>3.792133</td>\n",
       "      <td>2.329336</td>\n",
       "      <td>1.203170</td>\n",
       "      <td>3.200277</td>\n",
       "      <td>0.061778</td>\n",
       "    </tr>\n",
       "    <tr>\n",
       "      <th>min</th>\n",
       "      <td>2.000000e+05</td>\n",
       "      <td>1.000000</td>\n",
       "      <td>20.000000</td>\n",
       "      <td>1.000000</td>\n",
       "      <td>0.000000</td>\n",
       "      <td>3.200000</td>\n",
       "      <td>0.200000</td>\n",
       "      <td>0.300000</td>\n",
       "      <td>0.091000</td>\n",
       "      <td>0.000000</td>\n",
       "      <td>...</td>\n",
       "      <td>0.00000</td>\n",
       "      <td>0.000000</td>\n",
       "      <td>5.400000</td>\n",
       "      <td>7.300000</td>\n",
       "      <td>67.000000</td>\n",
       "      <td>94.000000</td>\n",
       "      <td>-2.500000</td>\n",
       "      <td>0.000000</td>\n",
       "      <td>-1.500000</td>\n",
       "      <td>-0.181000</td>\n",
       "    </tr>\n",
       "    <tr>\n",
       "      <th>25%</th>\n",
       "      <td>2.000000e+06</td>\n",
       "      <td>2.000000</td>\n",
       "      <td>24.000000</td>\n",
       "      <td>53.000000</td>\n",
       "      <td>4.750000</td>\n",
       "      <td>19.000000</td>\n",
       "      <td>2.475000</td>\n",
       "      <td>5.650000</td>\n",
       "      <td>0.421750</td>\n",
       "      <td>0.000000</td>\n",
       "      <td>...</td>\n",
       "      <td>1.10000</td>\n",
       "      <td>0.575000</td>\n",
       "      <td>10.400000</td>\n",
       "      <td>16.175000</td>\n",
       "      <td>103.000000</td>\n",
       "      <td>103.000000</td>\n",
       "      <td>0.600000</td>\n",
       "      <td>0.800000</td>\n",
       "      <td>1.600000</td>\n",
       "      <td>0.075000</td>\n",
       "    </tr>\n",
       "    <tr>\n",
       "      <th>50%</th>\n",
       "      <td>4.500000e+06</td>\n",
       "      <td>3.000000</td>\n",
       "      <td>26.000000</td>\n",
       "      <td>66.000000</td>\n",
       "      <td>24.500000</td>\n",
       "      <td>26.050000</td>\n",
       "      <td>3.800000</td>\n",
       "      <td>8.400000</td>\n",
       "      <td>0.455000</td>\n",
       "      <td>0.600000</td>\n",
       "      <td>...</td>\n",
       "      <td>1.50000</td>\n",
       "      <td>1.200000</td>\n",
       "      <td>12.600000</td>\n",
       "      <td>19.800000</td>\n",
       "      <td>108.000000</td>\n",
       "      <td>106.000000</td>\n",
       "      <td>2.000000</td>\n",
       "      <td>1.500000</td>\n",
       "      <td>3.900000</td>\n",
       "      <td>0.111500</td>\n",
       "    </tr>\n",
       "    <tr>\n",
       "      <th>75%</th>\n",
       "      <td>8.525000e+06</td>\n",
       "      <td>4.000000</td>\n",
       "      <td>29.000000</td>\n",
       "      <td>78.000000</td>\n",
       "      <td>62.000000</td>\n",
       "      <td>31.725000</td>\n",
       "      <td>5.400000</td>\n",
       "      <td>11.375000</td>\n",
       "      <td>0.494000</td>\n",
       "      <td>1.200000</td>\n",
       "      <td>...</td>\n",
       "      <td>1.82500</td>\n",
       "      <td>2.600000</td>\n",
       "      <td>14.800000</td>\n",
       "      <td>23.300000</td>\n",
       "      <td>113.000000</td>\n",
       "      <td>109.000000</td>\n",
       "      <td>3.625000</td>\n",
       "      <td>2.400000</td>\n",
       "      <td>6.100000</td>\n",
       "      <td>0.144000</td>\n",
       "    </tr>\n",
       "    <tr>\n",
       "      <th>max</th>\n",
       "      <td>2.524449e+07</td>\n",
       "      <td>6.000000</td>\n",
       "      <td>38.000000</td>\n",
       "      <td>82.000000</td>\n",
       "      <td>82.000000</td>\n",
       "      <td>39.700000</td>\n",
       "      <td>10.100000</td>\n",
       "      <td>20.100000</td>\n",
       "      <td>0.800000</td>\n",
       "      <td>3.500000</td>\n",
       "      <td>...</td>\n",
       "      <td>3.80000</td>\n",
       "      <td>8.800000</td>\n",
       "      <td>40.700000</td>\n",
       "      <td>35.100000</td>\n",
       "      <td>131.000000</td>\n",
       "      <td>114.000000</td>\n",
       "      <td>13.300000</td>\n",
       "      <td>5.200000</td>\n",
       "      <td>18.500000</td>\n",
       "      <td>0.299000</td>\n",
       "    </tr>\n",
       "  </tbody>\n",
       "</table>\n",
       "<p>8 rows × 47 columns</p>\n",
       "</div>"
      ],
      "text/plain": [
       "             Salary  Length of Contract         Age           G          GS  \\\n",
       "count  2.160000e+02          216.000000  216.000000  216.000000  216.000000   \n",
       "mean   5.856375e+06            3.148148   26.814815   61.583333   33.824074   \n",
       "std    4.751402e+06            1.429359    3.732069   19.726089   29.657213   \n",
       "min    2.000000e+05            1.000000   20.000000    1.000000    0.000000   \n",
       "25%    2.000000e+06            2.000000   24.000000   53.000000    4.750000   \n",
       "50%    4.500000e+06            3.000000   26.000000   66.000000   24.500000   \n",
       "75%    8.525000e+06            4.000000   29.000000   78.000000   62.000000   \n",
       "max    2.524449e+07            6.000000   38.000000   82.000000   82.000000   \n",
       "\n",
       "               MP          FG         FGA         FG%          3P  ...  \\\n",
       "count  216.000000  216.000000  216.000000  216.000000  216.000000  ...   \n",
       "mean    25.119907    4.067130    8.814815    0.460949    0.725000  ...   \n",
       "std      8.455306    2.166099    4.488690    0.072920    0.731628  ...   \n",
       "min      3.200000    0.200000    0.300000    0.091000    0.000000  ...   \n",
       "25%     19.000000    2.475000    5.650000    0.421750    0.000000  ...   \n",
       "50%     26.050000    3.800000    8.400000    0.455000    0.600000  ...   \n",
       "75%     31.725000    5.400000   11.375000    0.494000    1.200000  ...   \n",
       "max     39.700000   10.100000   20.100000    0.800000    3.500000  ...   \n",
       "\n",
       "            STL%        BLK%        TOV%        USG%        ORtg        DRtg  \\\n",
       "count  216.00000  216.000000  216.000000  216.000000  216.000000  216.000000   \n",
       "mean     1.52037    1.781944   13.339815   19.810185  107.277778  105.898148   \n",
       "std      0.61011    1.652707    4.588103    5.199444    9.647107    3.792133   \n",
       "min      0.00000    0.000000    5.400000    7.300000   67.000000   94.000000   \n",
       "25%      1.10000    0.575000   10.400000   16.175000  103.000000  103.000000   \n",
       "50%      1.50000    1.200000   12.600000   19.800000  108.000000  106.000000   \n",
       "75%      1.82500    2.600000   14.800000   23.300000  113.000000  109.000000   \n",
       "max      3.80000    8.800000   40.700000   35.100000  131.000000  114.000000   \n",
       "\n",
       "              OWS         DWS          WS       WS/48  \n",
       "count  216.000000  216.000000  216.000000  216.000000  \n",
       "mean     2.412037    1.728241    4.140741    0.107241  \n",
       "std      2.329336    1.203170    3.200277    0.061778  \n",
       "min     -2.500000    0.000000   -1.500000   -0.181000  \n",
       "25%      0.600000    0.800000    1.600000    0.075000  \n",
       "50%      2.000000    1.500000    3.900000    0.111500  \n",
       "75%      3.625000    2.400000    6.100000    0.144000  \n",
       "max     13.300000    5.200000   18.500000    0.299000  \n",
       "\n",
       "[8 rows x 47 columns]"
      ]
     },
     "execution_count": 3,
     "metadata": {},
     "output_type": "execute_result"
    }
   ],
   "source": [
    "df.describe()"
   ]
  },
  {
   "cell_type": "markdown",
   "metadata": {},
   "source": [
    "As we can see, there is no missing data in this dataset. "
   ]
  },
  {
   "cell_type": "markdown",
   "metadata": {},
   "source": [
    "# Part 2: Exploratory data analysis and data visualization. "
   ]
  },
  {
   "cell_type": "markdown",
   "metadata": {},
   "source": [
    "In this part, we will do some data analysis by answering questions about several NBA stats. As we mainly concern about the salary, let us start with that variable. "
   ]
  },
  {
   "cell_type": "markdown",
   "metadata": {},
   "source": [
    "**Question: What is the average salary of a player?**"
   ]
  },
  {
   "cell_type": "code",
   "execution_count": 4,
   "metadata": {},
   "outputs": [
    {
     "data": {
      "text/plain": [
       "5856375"
      ]
     },
     "execution_count": 4,
     "metadata": {},
     "output_type": "execute_result"
    }
   ],
   "source": [
    "round(df['Salary'].mean())"
   ]
  },
  {
   "cell_type": "markdown",
   "metadata": {},
   "source": [
    "\n",
    "On average, a baseball player is paid $5.8$ million per year. While we will not debate whether baseball players deserve this huge salary, we would like to comment on this from a data science perspective: this is a vast number. What should be the right measurement for the performance of a machine learning model? In particular, we should keep in mind that the mean square errors should be huge. To help us train precise model, we will normalize this variable. "
   ]
  },
  {
   "cell_type": "code",
   "execution_count": 5,
   "metadata": {},
   "outputs": [],
   "source": [
    "df['Salary']=df['Salary']/10**6"
   ]
  },
  {
   "cell_type": "markdown",
   "metadata": {},
   "source": [
    "We can also get a more complete picture about the salary data. "
   ]
  },
  {
   "cell_type": "code",
   "execution_count": 6,
   "metadata": {},
   "outputs": [
    {
     "name": "stdout",
     "output_type": "stream",
     "text": [
      "count    216.000000\n",
      "mean       5.856375\n",
      "std        4.751402\n",
      "min        0.200000\n",
      "25%        2.000000\n",
      "50%        4.500000\n",
      "75%        8.525000\n",
      "max       25.244493\n",
      "Name: Salary, dtype: float64\n"
     ]
    }
   ],
   "source": [
    "#statistical summary of the salary variable\n",
    "print(df['Salary'].describe())"
   ]
  },
  {
   "cell_type": "markdown",
   "metadata": {},
   "source": [
    "We can also plot the salary variable. "
   ]
  },
  {
   "cell_type": "code",
   "execution_count": 7,
   "metadata": {},
   "outputs": [
    {
     "data": {
      "image/png": "[encoded data removed]",
      "text/plain": [
       "<Figure size 900x288 with 1 Axes>"
      ]
     },
     "metadata": {
      "needs_background": "light"
     },
     "output_type": "display_data"
    }
   ],
   "source": [
    "#salary distribution\n",
    "figsize(12.5, 4)\n",
    "(df['Salary']).plot(kind='hist',bins =20, density=True)\n",
    "plt.vlines(1, 0, 0.18, linestyle='--', color='red', label='thresshold= one million dollar')\n",
    "plt.xlabel('Salary by million dollars')\n",
    "plt.title('Salary distribution of NBA players (by million dollars)')\n",
    "plt.legend()\n",
    "plt.show()"
   ]
  },
  {
   "cell_type": "markdown",
   "metadata": {},
   "source": [
    "Contrary to our initial belief, a considerable amount of players are paid less than 1 million per year. The majority of players get less than 10 million a year. "
   ]
  },
  {
   "cell_type": "markdown",
   "metadata": {},
   "source": [
    "This picture also shows a small number of players who get more than 20 million per year. Let us see the top 10 most paid players."
   ]
  },
  {
   "cell_type": "code",
   "execution_count": 8,
   "metadata": {},
   "outputs": [
    {
     "data": {
      "text/html": [
       "<div>\n",
       "<style scoped>\n",
       "    .dataframe tbody tr th:only-of-type {\n",
       "        vertical-align: middle;\n",
       "    }\n",
       "\n",
       "    .dataframe tbody tr th {\n",
       "        vertical-align: top;\n",
       "    }\n",
       "\n",
       "    .dataframe thead th {\n",
       "        text-align: right;\n",
       "    }\n",
       "</style>\n",
       "<table border=\"1\" class=\"dataframe\">\n",
       "  <thead>\n",
       "    <tr style=\"text-align: right;\">\n",
       "      <th></th>\n",
       "      <th>Player</th>\n",
       "      <th>Salary</th>\n",
       "    </tr>\n",
       "  </thead>\n",
       "  <tbody>\n",
       "    <tr>\n",
       "      <th>24</th>\n",
       "      <td>Kobe Bryant</td>\n",
       "      <td>25.244493</td>\n",
       "    </tr>\n",
       "    <tr>\n",
       "      <th>206</th>\n",
       "      <td>Carmelo Anthony</td>\n",
       "      <td>19.444504</td>\n",
       "    </tr>\n",
       "    <tr>\n",
       "      <th>25</th>\n",
       "      <td>Pau Gasol</td>\n",
       "      <td>18.714150</td>\n",
       "    </tr>\n",
       "    <tr>\n",
       "      <th>0</th>\n",
       "      <td>Blake Griffin</td>\n",
       "      <td>18.668431</td>\n",
       "    </tr>\n",
       "    <tr>\n",
       "      <th>176</th>\n",
       "      <td>Rudy Gay</td>\n",
       "      <td>17.888932</td>\n",
       "    </tr>\n",
       "    <tr>\n",
       "      <th>196</th>\n",
       "      <td>Deron Williams</td>\n",
       "      <td>17.177795</td>\n",
       "    </tr>\n",
       "    <tr>\n",
       "      <th>207</th>\n",
       "      <td>Amar'e Stoudemire</td>\n",
       "      <td>16.486611</td>\n",
       "    </tr>\n",
       "    <tr>\n",
       "      <th>1</th>\n",
       "      <td>Chris Paul</td>\n",
       "      <td>16.441500</td>\n",
       "    </tr>\n",
       "    <tr>\n",
       "      <th>104</th>\n",
       "      <td>Derrick Rose</td>\n",
       "      <td>16.402552</td>\n",
       "    </tr>\n",
       "    <tr>\n",
       "      <th>195</th>\n",
       "      <td>Joe Johnson</td>\n",
       "      <td>16.324500</td>\n",
       "    </tr>\n",
       "  </tbody>\n",
       "</table>\n",
       "</div>"
      ],
      "text/plain": [
       "                Player     Salary\n",
       "24         Kobe Bryant  25.244493\n",
       "206    Carmelo Anthony  19.444504\n",
       "25           Pau Gasol  18.714150\n",
       "0        Blake Griffin  18.668431\n",
       "176           Rudy Gay  17.888932\n",
       "196     Deron Williams  17.177795\n",
       "207  Amar'e Stoudemire  16.486611\n",
       "1           Chris Paul  16.441500\n",
       "104       Derrick Rose  16.402552\n",
       "195        Joe Johnson  16.324500"
      ]
     },
     "execution_count": 8,
     "metadata": {},
     "output_type": "execute_result"
    }
   ],
   "source": [
    "#top ten most paid players\n",
    "df[['Player','Salary']].sort_values('Salary', ascending=False ).iloc[:10]"
   ]
  },
  {
   "cell_type": "markdown",
   "metadata": {},
   "source": [
    "In this list, Kobe Bryan clearly stands out. "
   ]
  },
  {
   "cell_type": "markdown",
   "metadata": {},
   "source": [
    "**Question: What about the salary distribution accross different positions?**"
   ]
  },
  {
   "cell_type": "markdown",
   "metadata": {},
   "source": [
    "Is a player's salary depends on his position? Let us answer this question from the given data."
   ]
  },
  {
   "cell_type": "code",
   "execution_count": 9,
   "metadata": {},
   "outputs": [
    {
     "data": {
      "text/html": [
       "<div>\n",
       "<style scoped>\n",
       "    .dataframe tbody tr th:only-of-type {\n",
       "        vertical-align: middle;\n",
       "    }\n",
       "\n",
       "    .dataframe tbody tr th {\n",
       "        vertical-align: top;\n",
       "    }\n",
       "\n",
       "    .dataframe thead th {\n",
       "        text-align: right;\n",
       "    }\n",
       "</style>\n",
       "<table border=\"1\" class=\"dataframe\">\n",
       "  <thead>\n",
       "    <tr style=\"text-align: right;\">\n",
       "      <th></th>\n",
       "      <th>count</th>\n",
       "      <th>mean</th>\n",
       "      <th>std</th>\n",
       "      <th>min</th>\n",
       "      <th>25%</th>\n",
       "      <th>50%</th>\n",
       "      <th>75%</th>\n",
       "      <th>max</th>\n",
       "    </tr>\n",
       "    <tr>\n",
       "      <th>Position</th>\n",
       "      <th></th>\n",
       "      <th></th>\n",
       "      <th></th>\n",
       "      <th></th>\n",
       "      <th></th>\n",
       "      <th></th>\n",
       "      <th></th>\n",
       "      <th></th>\n",
       "    </tr>\n",
       "  </thead>\n",
       "  <tbody>\n",
       "    <tr>\n",
       "      <th>Center</th>\n",
       "      <td>50.0</td>\n",
       "      <td>5.892291</td>\n",
       "      <td>4.746355</td>\n",
       "      <td>0.788872</td>\n",
       "      <td>1.42463</td>\n",
       "      <td>4.649647</td>\n",
       "      <td>9.658537</td>\n",
       "      <td>18.714150</td>\n",
       "    </tr>\n",
       "    <tr>\n",
       "      <th>Forward</th>\n",
       "      <td>86.0</td>\n",
       "      <td>6.067205</td>\n",
       "      <td>4.685046</td>\n",
       "      <td>0.473604</td>\n",
       "      <td>2.82229</td>\n",
       "      <td>4.500000</td>\n",
       "      <td>8.475000</td>\n",
       "      <td>19.444504</td>\n",
       "    </tr>\n",
       "    <tr>\n",
       "      <th>Guard</th>\n",
       "      <td>80.0</td>\n",
       "      <td>5.607286</td>\n",
       "      <td>4.872246</td>\n",
       "      <td>0.200000</td>\n",
       "      <td>1.60000</td>\n",
       "      <td>4.463500</td>\n",
       "      <td>8.000000</td>\n",
       "      <td>25.244493</td>\n",
       "    </tr>\n",
       "  </tbody>\n",
       "</table>\n",
       "</div>"
      ],
      "text/plain": [
       "          count      mean       std       min      25%       50%       75%  \\\n",
       "Position                                                                     \n",
       "Center     50.0  5.892291  4.746355  0.788872  1.42463  4.649647  9.658537   \n",
       "Forward    86.0  6.067205  4.685046  0.473604  2.82229  4.500000  8.475000   \n",
       "Guard      80.0  5.607286  4.872246  0.200000  1.60000  4.463500  8.000000   \n",
       "\n",
       "                max  \n",
       "Position             \n",
       "Center    18.714150  \n",
       "Forward   19.444504  \n",
       "Guard     25.244493  "
      ]
     },
     "execution_count": 9,
     "metadata": {},
     "output_type": "execute_result"
    }
   ],
   "source": [
    "#first, let us get a statiscal summary of the salary across different groups.\n",
    "df.groupby('Position')['Salary'].describe()"
   ]
  },
  {
   "cell_type": "code",
   "execution_count": 10,
   "metadata": {
    "scrolled": true
   },
   "outputs": [
    {
     "data": {
      "image/png": "[encoded data removed]",
      "text/plain": [
       "<Figure size 1080x360 with 3 Axes>"
      ]
     },
     "metadata": {
      "needs_background": "light"
     },
     "output_type": "display_data"
    }
   ],
   "source": [
    "#distribution of the salary across different positions.\n",
    "fig, axes = plt.subplots(1, 3)\n",
    "position=['Center', 'Forward', 'Guard']\n",
    "for c in [0,1,2]:\n",
    "    (df[df['Position']==position[c]]['Salary']).plot(kind='hist', ax=axes[c], bins =15, \n",
    "                                                          title=f\"Salary distribution of {position[c]} players\",\n",
    "                                                            figsize=(15,5), range=[0,30])\n",
    "    plt.tight_layout()\n",
    "plt.show()"
   ]
  },
  {
   "cell_type": "markdown",
   "metadata": {},
   "source": [
    "Overall, it seems that those who play to forward position are paid slightly more than players at other positions. This kind of makes sense because forward players seem to score more often than others. See this wikipedia link for more information. \n",
    "\n",
    "https://en.wikipedia.org/wiki/Basketball_positions"
   ]
  },
  {
   "cell_type": "markdown",
   "metadata": {},
   "source": [
    "**Question: Which team pays the most to its players?**"
   ]
  },
  {
   "cell_type": "code",
   "execution_count": 11,
   "metadata": {},
   "outputs": [
    {
     "ename": "NameError",
     "evalue": "name 'top_5' is not defined",
     "output_type": "error",
     "traceback": [
      "\u001b[0;31m---------------------------------------------------------------------------\u001b[0m",
      "\u001b[0;31mNameError\u001b[0m                                 Traceback (most recent call last)",
      "\u001b[0;32m<ipython-input-11-fd65cd50a407>\u001b[0m in \u001b[0;36m<module>\u001b[0;34m\u001b[0m\n\u001b[0;32m----> 1\u001b[0;31m \u001b[0mtop_5\u001b[0m\u001b[0;34m\u001b[0m\u001b[0;34m\u001b[0m\u001b[0m\n\u001b[0m",
      "\u001b[0;31mNameError\u001b[0m: name 'top_5' is not defined"
     ]
    }
   ],
   "source": [
    "top_5"
   ]
  },
  {
   "cell_type": "code",
   "execution_count": 12,
   "metadata": {},
   "outputs": [
    {
     "data": {
      "image/png": "[encoded data removed]",
      "text/plain": [
       "<Figure size 864x324 with 1 Axes>"
      ]
     },
     "metadata": {
      "needs_background": "light"
     },
     "output_type": "display_data"
    }
   ],
   "source": [
    "#top five clubs that on average pay the most to their players.\n",
    "figsize(12,4.5)\n",
    "top_5=df.groupby('Team')['Salary'].mean().sort_values(ascending=False).iloc[:5]\n",
    "bar=sns.barplot(x=top_5.index, y=top_5)\n",
    "bar.set_xticklabels(bar.get_xticklabels(), rotation=45, horizontalalignment='right')\n",
    "plt.title(\"Top five teams that pay the most to their players\")\n",
    "plt.show()"
   ]
  },
  {
   "cell_type": "markdown",
   "metadata": {},
   "source": [
    "On average, Boston Celtics team pays the most to its players. Let us dig deeper into the salary of its players."
   ]
  },
  {
   "cell_type": "code",
   "execution_count": 13,
   "metadata": {},
   "outputs": [
    {
     "data": {
      "image/png": "[encoded data removed]",
      "text/plain": [
       "<Figure size 900x288 with 1 Axes>"
      ]
     },
     "metadata": {
      "needs_background": "light"
     },
     "output_type": "display_data"
    }
   ],
   "source": [
    "figsize(12.5,4)\n",
    "boston=df[df['Team']==\"Boston Celtics\"].set_index(\"Player\")\n",
    "bar=sns.barplot(x=boston.index, y=boston['Salary'])\n",
    "bar.set_xticklabels(bar.get_xticklabels(), rotation=45, horizontalalignment='right')\n",
    "plt.title(\"Salary of Boston Celtics'player\")\n",
    "plt.show()"
   ]
  },
  {
   "cell_type": "markdown",
   "metadata": {},
   "source": [
    "We note that the least paid players at Boston Celtics already got more than 5 million dollars!"
   ]
  },
  {
   "cell_type": "markdown",
   "metadata": {},
   "source": [
    "**Question: Do longer contracts mean higher salary?**"
   ]
  },
  {
   "cell_type": "markdown",
   "metadata": {},
   "source": [
    "Let us investigate the relation between the length of a contract and the salary."
   ]
  },
  {
   "cell_type": "code",
   "execution_count": 14,
   "metadata": {},
   "outputs": [
    {
     "data": {
      "image/png": "[encoded data removed]",
      "text/plain": [
       "<Figure size 1152x432 with 1 Axes>"
      ]
     },
     "metadata": {
      "needs_background": "light"
     },
     "output_type": "display_data"
    }
   ],
   "source": [
    "#salary distribution across different lengths of the contracts\n",
    "figsize(16,6)\n",
    "sns.boxplot(data=df, x='Length of Contract', y='Salary')\n",
    "plt.title(\"Salary with respect to the length of contract\")\n",
    "plt.show()"
   ]
  },
  {
   "cell_type": "markdown",
   "metadata": {},
   "source": [
    "It is clear that more extended contracts often imply a higher salary. \n",
    "\n",
    "The data also suggests that most players sign 2-4 years contract. It kind of makes sense because\n",
    "\n",
    "(1) Players would avoid signing a one-year contract. \n",
    "\n",
    "(2) Teams would avoid signing a contract for a long time as players might have trouble keeping the same level. \n",
    "\n",
    "Furthermore, there are nine players with 6-year contracts. Let's take a look at who they are and their salaries. "
   ]
  },
  {
   "cell_type": "code",
   "execution_count": 15,
   "metadata": {},
   "outputs": [
    {
     "data": {
      "image/png": "[encoded data removed]",
      "text/plain": [
       "<Figure size 1152x432 with 1 Axes>"
      ]
     },
     "metadata": {
      "needs_background": "light"
     },
     "output_type": "display_data"
    }
   ],
   "source": [
    "six_year_df=df[df['Length of Contract']==6][['Player', 'Year', 'Salary']]\n",
    "six_year_df.sort_values('Salary', ascending=False, inplace=True)\n",
    "bar=sns.barplot(x=six_year_df['Player'], y=six_year_df['Salary'])\n",
    "bar.set_xticklabels(bar.get_xticklabels(), rotation=45, horizontalalignment='right')\n",
    "plt.show()"
   ]
  },
  {
   "cell_type": "markdown",
   "metadata": {},
   "source": [
    "**Question: What is the distribution of players'age?**"
   ]
  },
  {
   "cell_type": "markdown",
   "metadata": {},
   "source": [
    "First, let us take a look at the youngest and oldest players (at the time the information is collected)"
   ]
  },
  {
   "cell_type": "code",
   "execution_count": 16,
   "metadata": {},
   "outputs": [
    {
     "data": {
      "image/png": "[encoded data removed]",
      "text/plain": [
       "<Figure size 900x288 with 1 Axes>"
      ]
     },
     "metadata": {
      "needs_background": "light"
     },
     "output_type": "display_data"
    }
   ],
   "source": [
    "figsize(12.5,4)\n",
    "plt.hist(df['Age'], bins=10, density=True)\n",
    "plt.xlabel('Ages')\n",
    "plt.title(\"Distribution of ages\")\n",
    "plt.show()"
   ]
  },
  {
   "cell_type": "markdown",
   "metadata": {},
   "source": [
    "We observe that the youngest age is 20 and the oldest one is 38. Furthermore, most players'ages are in the range 22- 27."
   ]
  },
  {
   "cell_type": "markdown",
   "metadata": {},
   "source": [
    "**Question: Which players are paid the most for their 1-minute plays?**"
   ]
  },
  {
   "cell_type": "markdown",
   "metadata": {},
   "source": [
    "Paying a huge amount of money, teams want to see their players play regularly (and play well!). Let us see how much teams have to pay for their players each minute of play. "
   ]
  },
  {
   "cell_type": "code",
   "execution_count": 17,
   "metadata": {},
   "outputs": [
    {
     "data": {
      "image/png": "[encoded data removed]",
      "text/plain": [
       "<Figure size 900x288 with 1 Axes>"
      ]
     },
     "metadata": {
      "needs_background": "light"
     },
     "output_type": "display_data"
    }
   ],
   "source": [
    "minute_df=df.copy()[['Player', 'G', 'Salary']]\n",
    "minute_df['total_time']=df['MP']*df['G'] #total time played \n",
    "minute_df['salary_per_minute_play']=minute_df['Salary']/minute_df['total_time'] #salary per minute played\n",
    "minute_df.sort_values('salary_per_minute_play', ascending=False, inplace=True)\n",
    "top_10=minute_df.head(10)\n",
    "bar=sns.barplot(x=top_10['Player'], y=top_10['salary_per_minute_play'])\n",
    "bar.set_xticklabels(bar.get_xticklabels(), rotation=45, horizontalalignment='right')\n",
    "plt.show()"
   ]
  },
  {
   "cell_type": "markdown",
   "metadata": {},
   "source": [
    "Let us take a closer look at this variable."
   ]
  },
  {
   "cell_type": "code",
   "execution_count": 18,
   "metadata": {},
   "outputs": [
    {
     "data": {
      "text/html": [
       "<div>\n",
       "<style scoped>\n",
       "    .dataframe tbody tr th:only-of-type {\n",
       "        vertical-align: middle;\n",
       "    }\n",
       "\n",
       "    .dataframe tbody tr th {\n",
       "        vertical-align: top;\n",
       "    }\n",
       "\n",
       "    .dataframe thead th {\n",
       "        text-align: right;\n",
       "    }\n",
       "</style>\n",
       "<table border=\"1\" class=\"dataframe\">\n",
       "  <thead>\n",
       "    <tr style=\"text-align: right;\">\n",
       "      <th></th>\n",
       "      <th>Player</th>\n",
       "      <th>G</th>\n",
       "      <th>Salary</th>\n",
       "      <th>total_time</th>\n",
       "      <th>salary_per_minute_play</th>\n",
       "    </tr>\n",
       "  </thead>\n",
       "  <tbody>\n",
       "    <tr>\n",
       "      <th>185</th>\n",
       "      <td>Quentin Richardson</td>\n",
       "      <td>1</td>\n",
       "      <td>4.347184</td>\n",
       "      <td>29.0</td>\n",
       "      <td>0.149903</td>\n",
       "    </tr>\n",
       "    <tr>\n",
       "      <th>198</th>\n",
       "      <td>Brook Lopez</td>\n",
       "      <td>5</td>\n",
       "      <td>13.668750</td>\n",
       "      <td>136.0</td>\n",
       "      <td>0.100506</td>\n",
       "    </tr>\n",
       "    <tr>\n",
       "      <th>86</th>\n",
       "      <td>Mike Harris</td>\n",
       "      <td>4</td>\n",
       "      <td>0.916099</td>\n",
       "      <td>16.0</td>\n",
       "      <td>0.057256</td>\n",
       "    </tr>\n",
       "    <tr>\n",
       "      <th>103</th>\n",
       "      <td>Josh Harrellson</td>\n",
       "      <td>6</td>\n",
       "      <td>0.884293</td>\n",
       "      <td>31.2</td>\n",
       "      <td>0.028343</td>\n",
       "    </tr>\n",
       "    <tr>\n",
       "      <th>215</th>\n",
       "      <td>Jeremy Tyler</td>\n",
       "      <td>21</td>\n",
       "      <td>0.884293</td>\n",
       "      <td>67.2</td>\n",
       "      <td>0.013159</td>\n",
       "    </tr>\n",
       "    <tr>\n",
       "      <th>65</th>\n",
       "      <td>Timofey Mozgov</td>\n",
       "      <td>41</td>\n",
       "      <td>4.400000</td>\n",
       "      <td>364.9</td>\n",
       "      <td>0.012058</td>\n",
       "    </tr>\n",
       "    <tr>\n",
       "      <th>104</th>\n",
       "      <td>Derrick Rose</td>\n",
       "      <td>39</td>\n",
       "      <td>16.402552</td>\n",
       "      <td>1376.7</td>\n",
       "      <td>0.011914</td>\n",
       "    </tr>\n",
       "    <tr>\n",
       "      <th>161</th>\n",
       "      <td>Al Harrington</td>\n",
       "      <td>10</td>\n",
       "      <td>1.399507</td>\n",
       "      <td>119.0</td>\n",
       "      <td>0.011761</td>\n",
       "    </tr>\n",
       "    <tr>\n",
       "      <th>181</th>\n",
       "      <td>Marcus Camby</td>\n",
       "      <td>24</td>\n",
       "      <td>2.763054</td>\n",
       "      <td>249.6</td>\n",
       "      <td>0.011070</td>\n",
       "    </tr>\n",
       "    <tr>\n",
       "      <th>42</th>\n",
       "      <td>Hamady N'Diaye</td>\n",
       "      <td>16</td>\n",
       "      <td>0.884293</td>\n",
       "      <td>80.0</td>\n",
       "      <td>0.011054</td>\n",
       "    </tr>\n",
       "  </tbody>\n",
       "</table>\n",
       "</div>"
      ],
      "text/plain": [
       "                 Player   G     Salary  total_time  salary_per_minute_play\n",
       "185  Quentin Richardson   1   4.347184        29.0                0.149903\n",
       "198         Brook Lopez   5  13.668750       136.0                0.100506\n",
       "86          Mike Harris   4   0.916099        16.0                0.057256\n",
       "103     Josh Harrellson   6   0.884293        31.2                0.028343\n",
       "215        Jeremy Tyler  21   0.884293        67.2                0.013159\n",
       "65       Timofey Mozgov  41   4.400000       364.9                0.012058\n",
       "104        Derrick Rose  39  16.402552      1376.7                0.011914\n",
       "161       Al Harrington  10   1.399507       119.0                0.011761\n",
       "181        Marcus Camby  24   2.763054       249.6                0.011070\n",
       "42       Hamady N'Diaye  16   0.884293        80.0                0.011054"
      ]
     },
     "execution_count": 18,
     "metadata": {},
     "output_type": "execute_result"
    }
   ],
   "source": [
    "minute_df.head(10)"
   ]
  },
  {
   "cell_type": "markdown",
   "metadata": {},
   "source": [
    "We see that  Richardson is paid the most for each minute play, he actually played very little. Instead of looking at these top paid players, let us take a look at the whole data set. "
   ]
  },
  {
   "cell_type": "code",
   "execution_count": 19,
   "metadata": {},
   "outputs": [
    {
     "data": {
      "image/png": "[encoded data removed]",
      "text/plain": [
       "<Figure size 900x288 with 1 Axes>"
      ]
     },
     "metadata": {
      "needs_background": "light"
     },
     "output_type": "display_data"
    }
   ],
   "source": [
    "figsize(12.5,4)\n",
    "plt.hist(minute_df['salary_per_minute_play']*10**6, bins=50, density=True)\n",
    "plt.xlim(0,20000)\n",
    "plt.xlabel(\"Salary\")\n",
    "plt.title(\"Players' salaries for each minute play\")\n",
    "plt.show()"
   ]
  },
  {
   "cell_type": "markdown",
   "metadata": {},
   "source": [
    "The majority of players earn 2000-5000 per minutes. "
   ]
  },
  {
   "cell_type": "markdown",
   "metadata": {},
   "source": [
    "**Question: On average, how long does it take a player to make a shoot?**"
   ]
  },
  {
   "cell_type": "markdown",
   "metadata": {},
   "source": [
    "Teams also want their players to shoot often and score. How long does it take to make a shoot? Let us investiate this question. "
   ]
  },
  {
   "cell_type": "code",
   "execution_count": 20,
   "metadata": {},
   "outputs": [
    {
     "data": {
      "text/html": [
       "<div>\n",
       "<style scoped>\n",
       "    .dataframe tbody tr th:only-of-type {\n",
       "        vertical-align: middle;\n",
       "    }\n",
       "\n",
       "    .dataframe tbody tr th {\n",
       "        vertical-align: top;\n",
       "    }\n",
       "\n",
       "    .dataframe thead th {\n",
       "        text-align: right;\n",
       "    }\n",
       "</style>\n",
       "<table border=\"1\" class=\"dataframe\">\n",
       "  <thead>\n",
       "    <tr style=\"text-align: right;\">\n",
       "      <th></th>\n",
       "      <th>Player</th>\n",
       "      <th>Salary</th>\n",
       "      <th>G</th>\n",
       "      <th>MP</th>\n",
       "      <th>FG</th>\n",
       "      <th>time_to_make_a_shoot</th>\n",
       "    </tr>\n",
       "  </thead>\n",
       "  <tbody>\n",
       "    <tr>\n",
       "      <th>198</th>\n",
       "      <td>Brook Lopez</td>\n",
       "      <td>13.668750</td>\n",
       "      <td>5</td>\n",
       "      <td>27.2</td>\n",
       "      <td>7.6</td>\n",
       "      <td>3.578947</td>\n",
       "    </tr>\n",
       "    <tr>\n",
       "      <th>24</th>\n",
       "      <td>Kobe Bryant</td>\n",
       "      <td>25.244493</td>\n",
       "      <td>82</td>\n",
       "      <td>33.9</td>\n",
       "      <td>9.0</td>\n",
       "      <td>3.766667</td>\n",
       "    </tr>\n",
       "    <tr>\n",
       "      <th>128</th>\n",
       "      <td>LeBron James</td>\n",
       "      <td>14.500000</td>\n",
       "      <td>76</td>\n",
       "      <td>39.0</td>\n",
       "      <td>10.1</td>\n",
       "      <td>3.861386</td>\n",
       "    </tr>\n",
       "    <tr>\n",
       "      <th>129</th>\n",
       "      <td>Dwyane Wade</td>\n",
       "      <td>14.000000</td>\n",
       "      <td>77</td>\n",
       "      <td>36.3</td>\n",
       "      <td>9.3</td>\n",
       "      <td>3.903226</td>\n",
       "    </tr>\n",
       "    <tr>\n",
       "      <th>51</th>\n",
       "      <td>Russell Westbrook</td>\n",
       "      <td>13.688750</td>\n",
       "      <td>66</td>\n",
       "      <td>35.3</td>\n",
       "      <td>8.8</td>\n",
       "      <td>4.011364</td>\n",
       "    </tr>\n",
       "  </tbody>\n",
       "</table>\n",
       "</div>"
      ],
      "text/plain": [
       "                Player     Salary   G    MP    FG  time_to_make_a_shoot\n",
       "198        Brook Lopez  13.668750   5  27.2   7.6              3.578947\n",
       "24         Kobe Bryant  25.244493  82  33.9   9.0              3.766667\n",
       "128       LeBron James  14.500000  76  39.0  10.1              3.861386\n",
       "129        Dwyane Wade  14.000000  77  36.3   9.3              3.903226\n",
       "51   Russell Westbrook  13.688750  66  35.3   8.8              4.011364"
      ]
     },
     "execution_count": 20,
     "metadata": {},
     "output_type": "execute_result"
    }
   ],
   "source": [
    "#create a data frame to record how long it takes a player to make a shoot.\n",
    "time_to_shoot=df.copy()[['Player', 'Salary', 'G', 'MP', 'FG']]\n",
    "time_to_shoot['time_to_make_a_shoot']=df['MP']/df['FG']\n",
    "time_to_shoot.head()\n",
    "time_to_shoot.sort_values('time_to_make_a_shoot').head(5)"
   ]
  },
  {
   "cell_type": "markdown",
   "metadata": {},
   "source": [
    "While Brook Lopez appears to be the most efficient shooter, we notice that he only played five games. Perhaps, we should only consider players who played a significant number of games. For example, let us only consider players who played at least 40 games."
   ]
  },
  {
   "cell_type": "code",
   "execution_count": 21,
   "metadata": {},
   "outputs": [
    {
     "data": {
      "image/png": "[encoded data removed]",
      "text/plain": [
       "<Figure size 900x432 with 1 Axes>"
      ]
     },
     "metadata": {
      "needs_background": "light"
     },
     "output_type": "display_data"
    }
   ],
   "source": [
    "figsize(12.5, 6)\n",
    "top_shoot=time_to_shoot[time_to_shoot['G']>=40].sort_values('time_to_make_a_shoot').head(5)\n",
    "bar=sns.barplot(x=top_shoot['Player'], y=top_shoot['time_to_make_a_shoot'])\n",
    "bar.set_xticklabels(bar.get_xticklabels(), rotation=45, horizontalalignment='right')\n",
    "plt.show()"
   ]
  },
  {
   "cell_type": "markdown",
   "metadata": {},
   "source": [
    "Now, this makes sense! Kobe Bryan and LeBron James need the least amount of time to make a shoot. "
   ]
  },
  {
   "cell_type": "markdown",
   "metadata": {},
   "source": [
    "We can also plot the distribution of this variable to have a more complete picture."
   ]
  },
  {
   "cell_type": "code",
   "execution_count": 22,
   "metadata": {},
   "outputs": [
    {
     "data": {
      "image/png": "[encoded data removed]",
      "text/plain": [
       "<Figure size 900x288 with 1 Axes>"
      ]
     },
     "metadata": {
      "needs_background": "light"
     },
     "output_type": "display_data"
    }
   ],
   "source": [
    "figsize(12.5,4)\n",
    "time_to_shoot[time_to_shoot['G']>=40]['time_to_make_a_shoot'].plot(kind='hist', bins=30, density=True)\n",
    "plt.xlabel(\"Time\")\n",
    "plt.title(\"Distribution of the time to make a shoot\")\n",
    "plt.show()"
   ]
  },
  {
   "cell_type": "markdown",
   "metadata": {},
   "source": [
    "We see that for the majority of players, it takes them 3-7 minutes to make a shoot. "
   ]
  },
  {
   "cell_type": "markdown",
   "metadata": {},
   "source": [
    "**Question: Which players are more likely to start a games?** "
   ]
  },
  {
   "cell_type": "markdown",
   "metadata": {},
   "source": [
    "There are four quarters in a NBA game. There are many reasons to expect that a coach would put the strongest team from the beginning. Can we confirm this from the data?"
   ]
  },
  {
   "cell_type": "code",
   "execution_count": 23,
   "metadata": {},
   "outputs": [],
   "source": [
    "start_df=df.copy()[['Player', 'Position', 'G', 'Salary', 'GS']]"
   ]
  },
  {
   "cell_type": "markdown",
   "metadata": {},
   "source": [
    "One way to look at this question is to look at the number of games started for each player. "
   ]
  },
  {
   "cell_type": "code",
   "execution_count": 24,
   "metadata": {},
   "outputs": [
    {
     "data": {
      "text/html": [
       "<div>\n",
       "<style scoped>\n",
       "    .dataframe tbody tr th:only-of-type {\n",
       "        vertical-align: middle;\n",
       "    }\n",
       "\n",
       "    .dataframe tbody tr th {\n",
       "        vertical-align: top;\n",
       "    }\n",
       "\n",
       "    .dataframe thead th {\n",
       "        text-align: right;\n",
       "    }\n",
       "</style>\n",
       "<table border=\"1\" class=\"dataframe\">\n",
       "  <thead>\n",
       "    <tr style=\"text-align: right;\">\n",
       "      <th></th>\n",
       "      <th>Player</th>\n",
       "      <th>GS</th>\n",
       "    </tr>\n",
       "  </thead>\n",
       "  <tbody>\n",
       "    <tr>\n",
       "      <th>54</th>\n",
       "      <td>Thabo Sefolosha</td>\n",
       "      <td>82</td>\n",
       "    </tr>\n",
       "    <tr>\n",
       "      <th>25</th>\n",
       "      <td>Pau Gasol</td>\n",
       "      <td>82</td>\n",
       "    </tr>\n",
       "    <tr>\n",
       "      <th>24</th>\n",
       "      <td>Kobe Bryant</td>\n",
       "      <td>82</td>\n",
       "    </tr>\n",
       "    <tr>\n",
       "      <th>207</th>\n",
       "      <td>Amar'e Stoudemire</td>\n",
       "      <td>82</td>\n",
       "    </tr>\n",
       "    <tr>\n",
       "      <th>119</th>\n",
       "      <td>O.J. Mayo</td>\n",
       "      <td>82</td>\n",
       "    </tr>\n",
       "    <tr>\n",
       "      <th>19</th>\n",
       "      <td>Emeka Okafor</td>\n",
       "      <td>82</td>\n",
       "    </tr>\n",
       "    <tr>\n",
       "      <th>177</th>\n",
       "      <td>DeMar DeRozan</td>\n",
       "      <td>82</td>\n",
       "    </tr>\n",
       "    <tr>\n",
       "      <th>13</th>\n",
       "      <td>David Lee</td>\n",
       "      <td>81</td>\n",
       "    </tr>\n",
       "    <tr>\n",
       "      <th>0</th>\n",
       "      <td>Blake Griffin</td>\n",
       "      <td>80</td>\n",
       "    </tr>\n",
       "    <tr>\n",
       "      <th>176</th>\n",
       "      <td>Rudy Gay</td>\n",
       "      <td>80</td>\n",
       "    </tr>\n",
       "  </tbody>\n",
       "</table>\n",
       "</div>"
      ],
      "text/plain": [
       "                Player  GS\n",
       "54     Thabo Sefolosha  82\n",
       "25           Pau Gasol  82\n",
       "24         Kobe Bryant  82\n",
       "207  Amar'e Stoudemire  82\n",
       "119          O.J. Mayo  82\n",
       "19        Emeka Okafor  82\n",
       "177      DeMar DeRozan  82\n",
       "13           David Lee  81\n",
       "0        Blake Griffin  80\n",
       "176           Rudy Gay  80"
      ]
     },
     "execution_count": 24,
     "metadata": {},
     "output_type": "execute_result"
    }
   ],
   "source": [
    "#sort by the number of games started\n",
    "start_df[['Player', 'GS']].sort_values('GS', ascending=False).head(10)"
   ]
  },
  {
   "cell_type": "markdown",
   "metadata": {},
   "source": [
    "Another way to answer this question is to look at the percentile of times a player starts the game (for example, we should take into account the fact that if a player cannot play a game, he will not be able to start the game!)"
   ]
  },
  {
   "cell_type": "code",
   "execution_count": 25,
   "metadata": {},
   "outputs": [
    {
     "data": {
      "image/png": "[encoded data removed]",
      "text/plain": [
       "<Figure size 900x288 with 1 Axes>"
      ]
     },
     "metadata": {
      "needs_background": "light"
     },
     "output_type": "display_data"
    }
   ],
   "source": [
    "figsize(12.5,4)\n",
    "start_df['percentile_start']=start_df['GS']/start_df['G']\n",
    "start_df['percentile_start'].plot(kind='hist')\n",
    "plt.show()"
   ]
  },
  {
   "cell_type": "markdown",
   "metadata": {},
   "source": [
    "We see that this distribution has two heavy tails. This kind of makes sense because the best combinations are usually stable over the season. Consequently, some players will always start while others will play later in the games. "
   ]
  },
  {
   "cell_type": "markdown",
   "metadata": {},
   "source": [
    "There are 60 players who start all the time. Let us dig deeper to see their positions."
   ]
  },
  {
   "cell_type": "code",
   "execution_count": 26,
   "metadata": {},
   "outputs": [
    {
     "data": {
      "image/png": "[encoded data removed]",
      "text/plain": [
       "<Figure size 720x432 with 1 Axes>"
      ]
     },
     "metadata": {
      "needs_background": "light"
     },
     "output_type": "display_data"
    }
   ],
   "source": [
    "figsize(12.5,4)\n",
    "start_df['percentile_start']=round(start_df['GS']/start_df['G'],1)\n",
    "start_df.groupby('percentile_start')['Position'].value_counts().unstack().plot(kind='bar', figsize=(10,6))\n",
    "plt.show()"
   ]
  },
  {
   "cell_type": "markdown",
   "metadata": {},
   "source": [
    "There does not seem to be any differences between groups."
   ]
  },
  {
   "cell_type": "markdown",
   "metadata": {},
   "source": [
    "**Question: Which players are most effective at shooting beyond the 3-point line?**"
   ]
  },
  {
   "cell_type": "markdown",
   "metadata": {},
   "source": [
    "One of the exciting performance in NBA is the precision of shooting beyond the 3-point line. Who is the king for this special skill? Let us answer this question from our data. First, we look for the top five players for shooting beyond the 3-point line."
   ]
  },
  {
   "cell_type": "code",
   "execution_count": 27,
   "metadata": {},
   "outputs": [
    {
     "data": {
      "image/png": "[encoded data removed]",
      "text/plain": [
       "<Figure size 900x288 with 1 Axes>"
      ]
     },
     "metadata": {
      "needs_background": "light"
     },
     "output_type": "display_data"
    }
   ],
   "source": [
    "figsize(12.5,4)\n",
    "top_5_three_point=df.sort_values('3P%', ascending=False).head(5)\n",
    "bar=sns.barplot(x=top_5_three_point['Player'], y=top_5_three_point['3P%'])\n",
    "plt.title('Top five players with 3 point percentage of success')\n",
    "plt.show()"
   ]
  },
  {
   "cell_type": "markdown",
   "metadata": {},
   "source": [
    "We see that Chris Andersen is really good: his 3-point precision average is more than 70%. "
   ]
  },
  {
   "cell_type": "markdown",
   "metadata": {},
   "source": [
    "What about the overall performance? "
   ]
  },
  {
   "cell_type": "code",
   "execution_count": 28,
   "metadata": {},
   "outputs": [
    {
     "data": {
      "image/png": "[encoded data removed]",
      "text/plain": [
       "<Figure size 900x288 with 1 Axes>"
      ]
     },
     "metadata": {
      "needs_background": "light"
     },
     "output_type": "display_data"
    }
   ],
   "source": [
    "figsize(12.5,4)\n",
    "plt.hist(df['3P%'], bins=40, density=True)\n",
    "plt.title(\"3 point percentage on average\")\n",
    "plt.xlabel(\"Point\")\n",
    "plt.show()"
   ]
  },
  {
   "cell_type": "markdown",
   "metadata": {},
   "source": [
    "It is real surprise to use that the majority of success is in the range 30-45% (we thought that it would be a lower range.)"
   ]
  },
  {
   "cell_type": "markdown",
   "metadata": {},
   "source": [
    "**Question: What is the successful rate of free throws?**"
   ]
  },
  {
   "cell_type": "markdown",
   "metadata": {},
   "source": [
    "Even though it is expected, we are still amazed by how players are so good with free throws. According to wikipedia, \n",
    "most players make 70-80% of their attempts. \n",
    "\n",
    "https://en.wikipedia.org/wiki/Free_throw\n",
    "\n",
    "Let check this statement using our dataset."
   ]
  },
  {
   "cell_type": "code",
   "execution_count": 29,
   "metadata": {},
   "outputs": [
    {
     "data": {
      "text/plain": [
       "count    216.000000\n",
       "mean       0.751907\n",
       "std        0.112402\n",
       "min        0.365000\n",
       "25%        0.707750\n",
       "50%        0.769500\n",
       "75%        0.824500\n",
       "max        1.000000\n",
       "Name: FT%, dtype: float64"
      ]
     },
     "execution_count": 29,
     "metadata": {},
     "output_type": "execute_result"
    }
   ],
   "source": [
    "df['FT%'].describe()"
   ]
  },
  {
   "cell_type": "markdown",
   "metadata": {},
   "source": [
    "So, the mean is 75%. How confident we are about the wikipedia's statement mentioned above? We can use confidence interval to answer this question."
   ]
  },
  {
   "cell_type": "code",
   "execution_count": 30,
   "metadata": {},
   "outputs": [
    {
     "data": {
      "text/plain": [
       "(0.73203105752532, 0.7717837572894949)"
      ]
     },
     "execution_count": 30,
     "metadata": {},
     "output_type": "execute_result"
    }
   ],
   "source": [
    "sms.DescrStatsW(df['FT%']).tconfint_mean(alpha=0.01)"
   ]
  },
  {
   "cell_type": "markdown",
   "metadata": {},
   "source": [
    "Since this confidence interval is contained in the range [70,80], Wikipedia's claim seems convincing.\n",
    "\n",
    "Now, Wikipedia also claims that some famous players are notoriously bad at free throws. Let us see who they are (to single out irrelevant information, we say that a player is outstanding if his salary is at least ten million.)"
   ]
  },
  {
   "cell_type": "code",
   "execution_count": 31,
   "metadata": {},
   "outputs": [
    {
     "data": {
      "text/html": [
       "<div>\n",
       "<style scoped>\n",
       "    .dataframe tbody tr th:only-of-type {\n",
       "        vertical-align: middle;\n",
       "    }\n",
       "\n",
       "    .dataframe tbody tr th {\n",
       "        vertical-align: top;\n",
       "    }\n",
       "\n",
       "    .dataframe thead th {\n",
       "        text-align: right;\n",
       "    }\n",
       "</style>\n",
       "<table border=\"1\" class=\"dataframe\">\n",
       "  <thead>\n",
       "    <tr style=\"text-align: right;\">\n",
       "      <th></th>\n",
       "      <th>Player</th>\n",
       "      <th>FT%</th>\n",
       "      <th>Salary</th>\n",
       "    </tr>\n",
       "  </thead>\n",
       "  <tbody>\n",
       "    <tr>\n",
       "      <th>96</th>\n",
       "      <td>Josh Smith</td>\n",
       "      <td>0.517</td>\n",
       "      <td>13.500000</td>\n",
       "    </tr>\n",
       "    <tr>\n",
       "      <th>14</th>\n",
       "      <td>Andre Iguodala</td>\n",
       "      <td>0.574</td>\n",
       "      <td>12.868632</td>\n",
       "    </tr>\n",
       "    <tr>\n",
       "      <th>198</th>\n",
       "      <td>Brook Lopez</td>\n",
       "      <td>0.625</td>\n",
       "      <td>13.668750</td>\n",
       "    </tr>\n",
       "    <tr>\n",
       "      <th>170</th>\n",
       "      <td>Rajon Rondo</td>\n",
       "      <td>0.645</td>\n",
       "      <td>11.954545</td>\n",
       "    </tr>\n",
       "    <tr>\n",
       "      <th>0</th>\n",
       "      <td>Blake Griffin</td>\n",
       "      <td>0.660</td>\n",
       "      <td>18.668431</td>\n",
       "    </tr>\n",
       "    <tr>\n",
       "      <th>113</th>\n",
       "      <td>Andrew Bynum</td>\n",
       "      <td>0.692</td>\n",
       "      <td>12.250000</td>\n",
       "    </tr>\n",
       "    <tr>\n",
       "      <th>87</th>\n",
       "      <td>Roy Hibbert</td>\n",
       "      <td>0.711</td>\n",
       "      <td>13.668750</td>\n",
       "    </tr>\n",
       "    <tr>\n",
       "      <th>157</th>\n",
       "      <td>Nene</td>\n",
       "      <td>0.711</td>\n",
       "      <td>13.000000</td>\n",
       "    </tr>\n",
       "    <tr>\n",
       "      <th>208</th>\n",
       "      <td>Tyson Chandler</td>\n",
       "      <td>0.732</td>\n",
       "      <td>13.107838</td>\n",
       "    </tr>\n",
       "    <tr>\n",
       "      <th>105</th>\n",
       "      <td>Carlos Boozer</td>\n",
       "      <td>0.742</td>\n",
       "      <td>14.400000</td>\n",
       "    </tr>\n",
       "  </tbody>\n",
       "</table>\n",
       "</div>"
      ],
      "text/plain": [
       "             Player    FT%     Salary\n",
       "96       Josh Smith  0.517  13.500000\n",
       "14   Andre Iguodala  0.574  12.868632\n",
       "198     Brook Lopez  0.625  13.668750\n",
       "170     Rajon Rondo  0.645  11.954545\n",
       "0     Blake Griffin  0.660  18.668431\n",
       "113    Andrew Bynum  0.692  12.250000\n",
       "87      Roy Hibbert  0.711  13.668750\n",
       "157            Nene  0.711  13.000000\n",
       "208  Tyson Chandler  0.732  13.107838\n",
       "105   Carlos Boozer  0.742  14.400000"
      ]
     },
     "execution_count": 31,
     "metadata": {},
     "output_type": "execute_result"
    }
   ],
   "source": [
    "free_throw_df=df.copy().sort_values('FT%', ascending=True)\n",
    "free_throw_df[free_throw_df['Salary']>10][['Player', 'FT%', 'Salary']].head(10)"
   ]
  },
  {
   "cell_type": "markdown",
   "metadata": {},
   "source": [
    "We see that, in particular, that Blake Griffin and Josh Smith is not good at free throws."
   ]
  },
  {
   "cell_type": "markdown",
   "metadata": {},
   "source": [
    "**Question: On average, which players score the most number of points?**"
   ]
  },
  {
   "cell_type": "markdown",
   "metadata": {},
   "source": [
    "This information is contained in the column PTS. Let us dig deeper into it."
   ]
  },
  {
   "cell_type": "code",
   "execution_count": 33,
   "metadata": {},
   "outputs": [
    {
     "data": {
      "image/png": "[encoded data removed]",
      "text/plain": [
       "<Figure size 900x288 with 1 Axes>"
      ]
     },
     "metadata": {
      "needs_background": "light"
     },
     "output_type": "display_data"
    }
   ],
   "source": [
    "#top 5 players who scored the most \n",
    "figsize(12.5,4)\n",
    "top_5_score=df.sort_values('PTS', ascending=False)[['Player', 'PTS']].head(5)\n",
    "bar=sns.barplot(x=top_5_score['Player'], y =top_5_score['PTS'])\n",
    "bar.set_xticklabels(bar.get_xticklabels(), rotation=45, horizontalalignment='right')\n",
    "plt.show()"
   ]
  },
  {
   "cell_type": "markdown",
   "metadata": {},
   "source": [
    "So, LeBron James is the most effect player in term of getting scores for his team. "
   ]
  },
  {
   "cell_type": "markdown",
   "metadata": {},
   "source": [
    "Are there differences between scores made by different positions?"
   ]
  },
  {
   "cell_type": "code",
   "execution_count": 34,
   "metadata": {},
   "outputs": [
    {
     "data": {
      "text/html": [
       "<div>\n",
       "<style scoped>\n",
       "    .dataframe tbody tr th:only-of-type {\n",
       "        vertical-align: middle;\n",
       "    }\n",
       "\n",
       "    .dataframe tbody tr th {\n",
       "        vertical-align: top;\n",
       "    }\n",
       "\n",
       "    .dataframe thead th {\n",
       "        text-align: right;\n",
       "    }\n",
       "</style>\n",
       "<table border=\"1\" class=\"dataframe\">\n",
       "  <thead>\n",
       "    <tr style=\"text-align: right;\">\n",
       "      <th></th>\n",
       "      <th>count</th>\n",
       "      <th>mean</th>\n",
       "      <th>std</th>\n",
       "      <th>min</th>\n",
       "      <th>25%</th>\n",
       "      <th>50%</th>\n",
       "      <th>75%</th>\n",
       "      <th>max</th>\n",
       "    </tr>\n",
       "    <tr>\n",
       "      <th>Position</th>\n",
       "      <th></th>\n",
       "      <th></th>\n",
       "      <th></th>\n",
       "      <th></th>\n",
       "      <th></th>\n",
       "      <th></th>\n",
       "      <th></th>\n",
       "      <th></th>\n",
       "    </tr>\n",
       "  </thead>\n",
       "  <tbody>\n",
       "    <tr>\n",
       "      <th>Center</th>\n",
       "      <td>50.0</td>\n",
       "      <td>8.982000</td>\n",
       "      <td>5.771983</td>\n",
       "      <td>0.9</td>\n",
       "      <td>4.90</td>\n",
       "      <td>8.30</td>\n",
       "      <td>12.450</td>\n",
       "      <td>24.0</td>\n",
       "    </tr>\n",
       "    <tr>\n",
       "      <th>Forward</th>\n",
       "      <td>86.0</td>\n",
       "      <td>11.280233</td>\n",
       "      <td>6.054824</td>\n",
       "      <td>0.6</td>\n",
       "      <td>7.45</td>\n",
       "      <td>10.40</td>\n",
       "      <td>14.425</td>\n",
       "      <td>29.7</td>\n",
       "    </tr>\n",
       "    <tr>\n",
       "      <th>Guard</th>\n",
       "      <td>80.0</td>\n",
       "      <td>11.601250</td>\n",
       "      <td>5.614121</td>\n",
       "      <td>2.0</td>\n",
       "      <td>7.45</td>\n",
       "      <td>11.05</td>\n",
       "      <td>14.950</td>\n",
       "      <td>26.6</td>\n",
       "    </tr>\n",
       "  </tbody>\n",
       "</table>\n",
       "</div>"
      ],
      "text/plain": [
       "          count       mean       std  min   25%    50%     75%   max\n",
       "Position                                                            \n",
       "Center     50.0   8.982000  5.771983  0.9  4.90   8.30  12.450  24.0\n",
       "Forward    86.0  11.280233  6.054824  0.6  7.45  10.40  14.425  29.7\n",
       "Guard      80.0  11.601250  5.614121  2.0  7.45  11.05  14.950  26.6"
      ]
     },
     "execution_count": 34,
     "metadata": {},
     "output_type": "execute_result"
    }
   ],
   "source": [
    "df.groupby('Position')['PTS'].describe()"
   ]
  },
  {
   "cell_type": "code",
   "execution_count": 35,
   "metadata": {},
   "outputs": [
    {
     "data": {
      "image/png": "[encoded data removed]",
      "text/plain": [
       "<Figure size 900x288 with 1 Axes>"
      ]
     },
     "metadata": {
      "needs_background": "light"
     },
     "output_type": "display_data"
    }
   ],
   "source": [
    "figsize(12.5,4)\n",
    "sns.boxplot(data=df, x='Position', y=df['PTS'])\n",
    "plt.title(\"Points per game with respect to positions\")\n",
    "plt.show()"
   ]
  },
  {
   "cell_type": "markdown",
   "metadata": {},
   "source": [
    "Guard/Forward positions score more points than Center position. Is the difference statistically significant. We can plot two histograms to partially answer this question."
   ]
  },
  {
   "cell_type": "code",
   "execution_count": 36,
   "metadata": {},
   "outputs": [
    {
     "data": {
      "image/png": "[encoded data removed]",
      "text/plain": [
       "<Figure size 576x360 with 1 Axes>"
      ]
     },
     "metadata": {
      "needs_background": "light"
     },
     "output_type": "display_data"
    }
   ],
   "source": [
    "plt.figure(figsize=(8,5))\n",
    "df[df['Position']=='Guard']['PTS'].plot(kind='hist', bins=20, density=True, label='PTS by Guard players')\n",
    "df[df['Position']=='Center']['PTS'].plot(kind='hist',bins=20, density=True, label='PTS by Center players')\n",
    "plt.legend(loc='upper right')\n",
    "plt.title(\"Distribution of points per game for Guard/Center positions\")\n",
    "plt.show()"
   ]
  },
  {
   "cell_type": "markdown",
   "metadata": {},
   "source": [
    "The above histograms clearly show that Guard Players score more than Center Player. However, it does not seem that the difference is statiscally significant."
   ]
  },
  {
   "cell_type": "markdown",
   "metadata": {},
   "source": [
    "**Question: What is the relation between different statistics?**"
   ]
  },
  {
   "cell_type": "markdown",
   "metadata": {},
   "source": [
    "We can use a heat map to visualize the linear relationship between pairwise varibles. Since we have a large set of features, we will only plot some of them."
   ]
  },
  {
   "cell_type": "code",
   "execution_count": 37,
   "metadata": {},
   "outputs": [
    {
     "data": {
      "text/plain": [
       "Index(['Year', 'Player', 'Position', 'Team', 'Salary', 'Length of Contract',\n",
       "       'Age', 'G', 'GS', 'MP', 'FG', 'FGA', 'FG%', '3P', '3PA', '3P%', '2P',\n",
       "       '2PA', '2P%', 'FT', 'FTA', 'FT%', 'ORB', 'DRB', 'TRB', 'AST', 'STL',\n",
       "       'BLK', 'TOV', 'PF', 'PTS', 'MP_1', 'PER', 'TS%', 'eFG%', 'FTr', '3PAr',\n",
       "       'ORB%', 'DRB%', 'TRB%', 'AST%', 'STL%', 'BLK%', 'TOV%', 'USG%', 'ORtg',\n",
       "       'DRtg', 'OWS', 'DWS', 'WS', 'WS/48'],\n",
       "      dtype='object')"
      ]
     },
     "execution_count": 37,
     "metadata": {},
     "output_type": "execute_result"
    }
   ],
   "source": [
    "df.columns"
   ]
  },
  {
   "cell_type": "code",
   "execution_count": 38,
   "metadata": {},
   "outputs": [
    {
     "data": {
      "image/png": "[encoded data removed]",
      "text/plain": [
       "<Figure size 720x576 with 2 Axes>"
      ]
     },
     "metadata": {
      "needs_background": "light"
     },
     "output_type": "display_data"
    }
   ],
   "source": [
    "figsize(10, 8)\n",
    "corr = df[['Age', 'G', 'GS', 'FT%', '3P%', '2P%', 'PTS', 'TRB%', \"AST%\",  \n",
    "            'STL%', 'BLK%', 'TOV%', 'USG%','OWS', 'DWS', 'WS', 'Salary', 'PER' ]].corr()\n",
    "\n",
    "# plot the heatmap\n",
    "sns.heatmap(corr, \n",
    "        xticklabels=corr.columns,\n",
    "        yticklabels=corr.columns,\n",
    "           cmap='Accent')\n",
    "plt.show()"
   ]
  },
  {
   "cell_type": "markdown",
   "metadata": {},
   "source": [
    "We see that the following pairs are strongly linearly correlated (the list is not exclusive)\n",
    "\n",
    "(1) Points (PTs) and Game Start (GS). This makes sense because the cofounding factor for these two variables is a player's performance. Excellent players often start early and, at the same time, score lots of points. \n",
    "\n",
    "(2) 3P% and FT%. \n",
    "\n",
    "(3) Block percentage (BLK%) and Total rebounds average (TRB%). This is expected. \n",
    "\n",
    "(4) Usage Percentage (USG%) and Points (%). Again, this makes sense because the more a player plays, the more chances he has to score. \n",
    "\n",
    "(5) The following statistics are strongly correlated to the Salary variable: GS, OWS, DWS, WS, PER. Except for GS, all other variables are not raw; they are derived from other statistics.\n",
    "\n",
    "(6) PER (Player efficiency rating) and PTS (Points) are postively correlated to several other variables.  \n"
   ]
  },
  {
   "cell_type": "markdown",
   "metadata": {},
   "source": [
    "Let us use scatterplots to visuallize some of these relations."
   ]
  },
  {
   "cell_type": "code",
   "execution_count": 39,
   "metadata": {},
   "outputs": [
    {
     "data": {
      "image/png": "[encoded data removed]",
      "text/plain": [
       "<Figure size 900x288 with 1 Axes>"
      ]
     },
     "metadata": {
      "needs_background": "light"
     },
     "output_type": "display_data"
    }
   ],
   "source": [
    "#Relationship between Offensive Win Shares and Salary\n",
    "figsize(12.5, 4)\n",
    "sns.scatterplot(x=df['OWS'], y=df['Salary'])\n",
    "plt.xlabel(\"Offensive Win Shares\")\n",
    "plt.title(\"Relation between Offensive Win Shares and Salary\")\n",
    "plt.show()"
   ]
  },
  {
   "cell_type": "markdown",
   "metadata": {},
   "source": [
    "We see that there is clear positively linear relationship between offensive win shares and Salary."
   ]
  },
  {
   "cell_type": "code",
   "execution_count": 40,
   "metadata": {},
   "outputs": [
    {
     "data": {
      "image/png": "[encoded data removed]",
      "text/plain": [
       "<Figure size 900x288 with 1 Axes>"
      ]
     },
     "metadata": {
      "needs_background": "light"
     },
     "output_type": "display_data"
    }
   ],
   "source": [
    "#Relationship between Offensive Win Shares and Salary\n",
    "figsize(12.5, 4)\n",
    "sns.scatterplot(x=df['PER'], y=df['Salary'])\n",
    "plt.xlabel(\"Player efficiency rating\")\n",
    "plt.title(\"Relation between Player efficiency rating and Salary\")\n",
    "plt.show()"
   ]
  },
  {
   "cell_type": "markdown",
   "metadata": {},
   "source": [
    "Again, there is a clear linear trend here. "
   ]
  },
  {
   "cell_type": "markdown",
   "metadata": {},
   "source": [
    "# Part 2: Data Engineering"
   ]
  },
  {
   "cell_type": "markdown",
   "metadata": {},
   "source": [
    "We note that there are several categorical variables in our dataset, such as Position, Team. Machine learning models are often not able to use categorical variables directly. Consequently, we need to transform them into numeric values. We also note that while there are only three categories in the Position variable, there are 25 different teams in the Team variable. To avoid the curse of dimensionality, we will only use the Position variable for our model. We can use the get_dummies method in pandas to transform categorical variables into numeric variables.\n"
   ]
  },
  {
   "cell_type": "code",
   "execution_count": 41,
   "metadata": {},
   "outputs": [
    {
     "data": {
      "text/html": [
       "<div>\n",
       "<style scoped>\n",
       "    .dataframe tbody tr th:only-of-type {\n",
       "        vertical-align: middle;\n",
       "    }\n",
       "\n",
       "    .dataframe tbody tr th {\n",
       "        vertical-align: top;\n",
       "    }\n",
       "\n",
       "    .dataframe thead th {\n",
       "        text-align: right;\n",
       "    }\n",
       "</style>\n",
       "<table border=\"1\" class=\"dataframe\">\n",
       "  <thead>\n",
       "    <tr style=\"text-align: right;\">\n",
       "      <th></th>\n",
       "      <th>Forward</th>\n",
       "      <th>Guard</th>\n",
       "    </tr>\n",
       "  </thead>\n",
       "  <tbody>\n",
       "    <tr>\n",
       "      <th>0</th>\n",
       "      <td>1</td>\n",
       "      <td>0</td>\n",
       "    </tr>\n",
       "    <tr>\n",
       "      <th>1</th>\n",
       "      <td>0</td>\n",
       "      <td>1</td>\n",
       "    </tr>\n",
       "    <tr>\n",
       "      <th>2</th>\n",
       "      <td>0</td>\n",
       "      <td>1</td>\n",
       "    </tr>\n",
       "    <tr>\n",
       "      <th>3</th>\n",
       "      <td>0</td>\n",
       "      <td>0</td>\n",
       "    </tr>\n",
       "    <tr>\n",
       "      <th>4</th>\n",
       "      <td>0</td>\n",
       "      <td>1</td>\n",
       "    </tr>\n",
       "  </tbody>\n",
       "</table>\n",
       "</div>"
      ],
      "text/plain": [
       "   Forward  Guard\n",
       "0        1      0\n",
       "1        0      1\n",
       "2        0      1\n",
       "3        0      0\n",
       "4        0      1"
      ]
     },
     "execution_count": 41,
     "metadata": {},
     "output_type": "execute_result"
    }
   ],
   "source": [
    "dummies = pd.get_dummies(df['Position'], drop_first=True) \n",
    "dummies.head()"
   ]
  },
  {
   "cell_type": "markdown",
   "metadata": {},
   "source": [
    "We then add these new variables to our data frame."
   ]
  },
  {
   "cell_type": "code",
   "execution_count": 42,
   "metadata": {},
   "outputs": [],
   "source": [
    "new_df=pd.concat([df, dummies], axis=1)"
   ]
  },
  {
   "cell_type": "markdown",
   "metadata": {},
   "source": [
    "Next, we will normalize our data. There are several advantages to do so, including but not limited to the following.\n",
    "\n",
    "(1) All features are on the same scale, which makes it easier to interpret our models' results.\n",
    "\n",
    "(2) It will be less computationally expensive to train our models. Sometimes, it can prevent the loss function from getting stuck at local maxima. \n",
    "\n",
    "(3) Normalized data makes it easier to deal with outliers. \n",
    "\n",
    "There are two main methods to normalize the data: normalization and standardization. See here for a discussion about the difference between these two approaches. \n",
    "\n",
    "https://stats.stackexchange.com/questions/10289/whats-the-difference-between-normalization-and-standardization\n",
    "\n",
    "For this project, we use standardization to normalize our data. Before we do so, let us pose an important question:"
   ]
  },
  {
   "cell_type": "markdown",
   "metadata": {},
   "source": [
    "We will normalize the training set and use the mean/sample variance from the training set to transform the test set. In other words, we first compute $\\mu_{train}$ and $\\sigma_{train}$ from the training set. We then use this to transfrom the test set\n",
    "\n",
    "$$X_{normalized-test}=\\frac{X_{test}-\\mu_{train}}{\\sigma_{train}}$$"
   ]
  },
  {
   "cell_type": "code",
   "execution_count": 90,
   "metadata": {},
   "outputs": [],
   "source": [
    "#select the numeric variables from the data set\n",
    "X=new_df.copy().drop(['Salary', 'Year', 'Position', 'Team', 'Player', 'WS/48'], axis=1)\n",
    "y=new_df['Salary']\n",
    "#split the dataset into training/test sets\n",
    "X_train, X_test, y_train, y_test = train_test_split(X, y, test_size=0.33, random_state=42)\n",
    "\n",
    "#use the training set for standardization\n",
    "scaler = preprocessing.StandardScaler().fit(X_train)\n",
    "\n",
    "#transform the training/test sets using the above scaler obtained above\n",
    "X_train_scaled=pd.DataFrame(scaler.transform(X_train), columns=X.columns)\n",
    "X_test_scaled=pd.DataFrame(scaler.transform(X_test),columns=X.columns)"
   ]
  },
  {
   "cell_type": "markdown",
   "metadata": {},
   "source": [
    "# Part 3: Build and evaluate machine learning models."
   ]
  },
  {
   "cell_type": "markdown",
   "metadata": {},
   "source": [
    "In this part, we will develop several machine learning models to predict an NBA player's salary. Our goal is to build models with small root mean square errors. At the same time, we also hope to find statistics that influence salary. \n",
    "\n",
    "Note that our dataset has lots of features. While some of them are raw variables (such as 3P%), others are derived variables: they are computed from other variables. Therefore, we need to select a good set of variables for training our model. \n",
    "\n",
    "We will use the following function to automate our process (when necessary, we will build our models separately.) "
   ]
  },
  {
   "cell_type": "code",
   "execution_count": 203,
   "metadata": {},
   "outputs": [],
   "source": [
    "stats=X_train_scaled.columns\n",
    "def salary_prediction(model, stats=X_train_scaled.columns, X_train_scaled=X_train_scaled, X_test_scaled=X_test_scaled,\n",
    "                     y_train=y_train, y_test=y_test):\n",
    "    \"\"\"\n",
    "    model: type model we build to predict salar\n",
    "    \n",
    "    stats: the subset of statistics used to train/test our model\n",
    "    \"\"\"\n",
    "    #select the training and test sets \n",
    "    X_train=X_train_scaled[stats] \n",
    "    X_test=X_test_scaled[stats]\n",
    "    \n",
    "    \n",
    "    #train the model on the training set \n",
    "    reg_model=model.fit(X_train, y_train)\n",
    "    \n",
    "    #use the trained model to make predictions\n",
    "    y_train_prediction= reg_model.predict(X_train)\n",
    "    y_test_prediction=reg_model.predict(X_test)\n",
    "    \n",
    "    #compute the mean square errors\n",
    "    mse_train=mean_squared_error(y_train, y_train_prediction)\n",
    "    mse_test=mean_squared_error(y_test, y_test_prediction)\n",
    "    \n",
    "    #print the result\n",
    "    \n",
    "    print(f\"The RMSE on the traing set is {np.sqrt(mse_train)}\")\n",
    "    print(f\"The RMSE on the test set is {np.sqrt(mse_test)}\")    \n",
    "    \n",
    "    #importance features if exists\n",
    "    try: \n",
    "        importance= model.feature_importances_        \n",
    "        importance_df=pd.DataFrame(data=importance, index=X_train.columns, columns=['score'])\n",
    "        importance_df=importance_df[importance_df['score']>0]\n",
    "        figsize(12.5,4)\n",
    "        bar=sns.barplot(x=importance_df.index, y=importance_df['score'])\n",
    "        bar.set_xticklabels(bar.get_xticklabels(), rotation=45, horizontalalignment='right')\n",
    "        plt.xlabel(\"NBA stats\")\n",
    "        plt.ylabel('Score')\n",
    "        plt.title(\"Feature importance scores\")\n",
    "        plt.show()\n",
    "    except:\n",
    "        print(f\"This model does not have feature importance attribute\")\n",
    " "
   ]
  },
  {
   "cell_type": "markdown",
   "metadata": {},
   "source": [
    "We will also use a similar function to tune in our hyperparameters. "
   ]
  },
  {
   "cell_type": "code",
   "execution_count": 204,
   "metadata": {},
   "outputs": [],
   "source": [
    "def salary_prediction_aux(model, stats=X_train_scaled.columns, X_train_scaled=X_train_scaled, X_test_scaled=X_test_scaled,\n",
    "                     y_train=y_train, y_test=y_test):\n",
    "    \"\"\"\n",
    "    model: type model we build to predict salar\n",
    "    \n",
    "    stats: the subset of statistics used to train/test our model\n",
    "    \"\"\"\n",
    "    #select the training and test sets \n",
    "    X_train=X_train_scaled[stats] \n",
    "    X_test=X_test_scaled[stats]\n",
    "    \n",
    "    \n",
    "    #train the model on the training set \n",
    "    reg_model=model.fit(X_train, y_train)\n",
    "    \n",
    "    #use the trained model to make predictions\n",
    "    y_train_prediction= reg_model.predict(X_train)\n",
    "    y_test_prediction=reg_model.predict(X_test)\n",
    "    \n",
    "    #compute the mean square errors\n",
    "    rmse_train=np.sqrt(mean_squared_error(y_train, y_train_prediction))\n",
    "    rmse_test=np.sqrt(mean_squared_error(y_test, y_test_prediction))\n",
    "    result=[rmse_train, rmse_test]\n",
    "    return result"
   ]
  },
  {
   "cell_type": "markdown",
   "metadata": {},
   "source": [
    "We will use this function to find the best model(s)."
   ]
  },
  {
   "cell_type": "markdown",
   "metadata": {},
   "source": [
    "# Part 3.1: Linear Regression models."
   ]
  },
  {
   "cell_type": "markdown",
   "metadata": {},
   "source": [
    "We start with the simplest model: a linear regression model. We will consider this one as the baseline model."
   ]
  },
  {
   "cell_type": "code",
   "execution_count": 167,
   "metadata": {},
   "outputs": [
    {
     "name": "stdout",
     "output_type": "stream",
     "text": [
      "The RMSE on the traing set is 1.6942994114816896\n",
      "The RMSE on the test set is 3.0027277444247873\n",
      "This model does not have feature importance attribute\n"
     ]
    }
   ],
   "source": [
    "#Linear regression model using all available stats\n",
    "model=LinearRegression()\n",
    "salary_prediction(model)"
   ]
  },
  {
   "cell_type": "markdown",
   "metadata": {},
   "source": [
    "We see that this model performance is relatively poor, and hence, there are rooms for improvement.\n",
    "\n",
    "Let us train another model where we only use raw statistics. In other words, we will use all statistics except the following derived ones: PER, OWS, DWS, WS. "
   ]
  },
  {
   "cell_type": "code",
   "execution_count": 164,
   "metadata": {},
   "outputs": [],
   "source": [
    "#get the list of raw stats\n",
    "stats_list=stats.to_list()\n",
    "derived_stats=['PER', 'OWS', 'DWS', 'WS']\n",
    "raw_stats=[item for item in stats_list if item not in derived_stats]"
   ]
  },
  {
   "cell_type": "code",
   "execution_count": 168,
   "metadata": {},
   "outputs": [
    {
     "name": "stdout",
     "output_type": "stream",
     "text": [
      "The RMSE on the traing set is 1.7643081618483574\n",
      "The RMSE on the test set is 3.0104934840223265\n",
      "This model does not have feature importance attribute\n"
     ]
    }
   ],
   "source": [
    "#Linear regression model with raw statistics only\n",
    "model=LinearRegression()\n",
    "salary_prediction(model, raw_stats)"
   ]
  },
  {
   "cell_type": "markdown",
   "metadata": {},
   "source": [
    "We see that this model is almost identical to the baseline model. One can argue that both of them underfits the data. Let us see whether we can use regularization to overcome this overfitting problem. For example, we can use $L^2$-regularization. "
   ]
  },
  {
   "cell_type": "code",
   "execution_count": 173,
   "metadata": {},
   "outputs": [
    {
     "name": "stdout",
     "output_type": "stream",
     "text": [
      "The RMSE on the traing set is 1.8099970585921616\n",
      "The RMSE on the test set is 2.7117959348443836\n",
      "This model does not have feature importance attribute\n"
     ]
    }
   ],
   "source": [
    "#Ridge regression model\n",
    "model=Ridge(alpha=10)\n",
    "salary_prediction(model)"
   ]
  },
  {
   "cell_type": "markdown",
   "metadata": {},
   "source": [
    "We see that this does not improve. In fact, this model is underfitting. "
   ]
  },
  {
   "cell_type": "markdown",
   "metadata": {},
   "source": [
    "# Part 3.2: KNN models"
   ]
  },
  {
   "cell_type": "markdown",
   "metadata": {},
   "source": [
    "It is reasonable to expect that players with similar statistics should have a comparable salary. This is especially true in an ideal capital market. If a player feels that he is underpaid, he can change the team.\n",
    "\n",
    "The question is: how can we measure the similarity between players? In other words, what is good metrics for measuring similarity? K-Nearest Neighborhoods algorithm provides an answer to this question. More precisely, KNN measures the distance between two features vectors. There are several distance formulas used in practice. For this project, we will use the $L^2$ norm, i,e for two vectors $x=(x_1,\\ldots,x_n)$, $y=(y_1, \\ldots, y_n)$ their distance is computed by \n",
    "\n",
    "$$d(x,y)=\\sqrt{(\\sum_{i=1}^n (x_i-y_i)^2} $$\n",
    "\n"
   ]
  },
  {
   "cell_type": "code",
   "execution_count": 249,
   "metadata": {},
   "outputs": [
    {
     "name": "stdout",
     "output_type": "stream",
     "text": [
      "The RMSE on the traing set is 1.7165300523301195\n",
      "The RMSE on the test set is 2.8372608897969807\n",
      "This model does not have feature importance attribute\n"
     ]
    }
   ],
   "source": [
    "#KNN model with n=3\n",
    "model=KNeighborsRegressor(n_neighbors=3)\n",
    "salary_prediction(model)"
   ]
  },
  {
   "cell_type": "markdown",
   "metadata": {},
   "source": [
    "Hey, this model has the almost the same error on the training set but the error on the test set is significantly lower. This is our first improvement. "
   ]
  },
  {
   "cell_type": "markdown",
   "metadata": {},
   "source": [
    "We can also try different values of the number of n_neighbors. "
   ]
  },
  {
   "cell_type": "code",
   "execution_count": 185,
   "metadata": {},
   "outputs": [],
   "source": [
    "#KNN model with n in [3,20]\n",
    "result=[]\n",
    "for i in range(3,21):\n",
    "    model=KNeighborsRegressor(n_neighbors=i)\n",
    "    result.append(salary_prediction_aux(model))"
   ]
  },
  {
   "cell_type": "markdown",
   "metadata": {},
   "source": [
    "We plot the performance of KNN for several values of $N$."
   ]
  },
  {
   "cell_type": "code",
   "execution_count": 201,
   "metadata": {
    "scrolled": true
   },
   "outputs": [
    {
     "data": {
      "image/png": "[encoded data removed]",
      "text/plain": [
       "<Figure size 900x288 with 1 Axes>"
      ]
     },
     "metadata": {
      "needs_background": "light"
     },
     "output_type": "display_data"
    }
   ],
   "source": [
    "figsize(12.5,4)\n",
    "neibors=range(3,21)\n",
    "result_train=[item[0] for item in result]\n",
    "result_test=[item[1] for item in result]\n",
    "plt.plot(neibors, result_train, label='RMSE on training set')\n",
    "plt.plot(neibors, result_test, label='RMSE on test set')\n",
    "plt.xlabel(\"Number of neiborhoods\")\n",
    "plt.ylabel(\"Error\")\n",
    "plt.title(\"Root mean square errors for different values of N\")\n",
    "plt.legend()\n",
    "plt.show()"
   ]
  },
  {
   "cell_type": "markdown",
   "metadata": {},
   "source": [
    "We see that the difference between RMSE on the training and test sets are stable. In other words, increasing N does not really improve our model's performance. Visually, $N=3$ is our best choice in this case."
   ]
  },
  {
   "cell_type": "markdown",
   "metadata": {},
   "source": [
    "# Part 3.3: Decision tree models."
   ]
  },
  {
   "cell_type": "markdown",
   "metadata": {},
   "source": [
    "In this part, we will build and evaluate decision tree regressor models."
   ]
  },
  {
   "cell_type": "code",
   "execution_count": 211,
   "metadata": {},
   "outputs": [
    {
     "name": "stdout",
     "output_type": "stream",
     "text": [
      "The RMSE on the traing set is 1.3995553769188247\n",
      "The RMSE on the test set is 2.5424820827612273\n"
     ]
    },
    {
     "data": {
      "image/png": "[encoded data removed]",
      "text/plain": [
       "<Figure size 900x288 with 1 Axes>"
      ]
     },
     "metadata": {
      "needs_background": "light"
     },
     "output_type": "display_data"
    }
   ],
   "source": [
    "#train a decision tree model with max_depth=4\n",
    "model=DecisionTreeRegressor(max_depth=4)\n",
    "salary_prediction(model)"
   ]
  },
  {
   "cell_type": "markdown",
   "metadata": {},
   "source": [
    "This is a real improvement in comparison with the baseline model! Furthermore, our model even suggests that MP, FTA, PER, and WS have the most decisive influence on an NBA player's salary amongst all features. \n",
    "\n",
    "Can we do better? Let us change the max_depth hyperparameter to see whether we can still improve. \n",
    "\n"
   ]
  },
  {
   "cell_type": "code",
   "execution_count": 207,
   "metadata": {},
   "outputs": [
    {
     "data": {
      "image/png": "[encoded data removed]",
      "text/plain": [
       "<Figure size 900x288 with 1 Axes>"
      ]
     },
     "metadata": {
      "needs_background": "light"
     },
     "output_type": "display_data"
    }
   ],
   "source": [
    "#Decision tree model with different max_depth\n",
    "result=[]\n",
    "for i in range(3,21):\n",
    "    model=DecisionTreeRegressor(max_depth=i)\n",
    "    result.append(salary_prediction_aux(model))\n",
    "    \n",
    "#plot the errors on training and test sets for different values of max_depth\n",
    "figsize(12.5,4)\n",
    "max_depth=range(3,21)\n",
    "result_train=[item[0] for item in result]\n",
    "result_test=[item[1] for item in result]\n",
    "plt.plot(max_depth, result_train, label='RMSE on training set')\n",
    "plt.plot(max_depth, result_test, label='RMSE on test set')\n",
    "plt.xlabel(\"Max_depth\")\n",
    "plt.ylabel(\"Error\")\n",
    "plt.title(\"Root mean square errors for different values of max_depth\")\n",
    "plt.legend()\n",
    "plt.show()"
   ]
  },
  {
   "cell_type": "markdown",
   "metadata": {},
   "source": [
    "This plot suggests that when $n \\geq 5$, tree models tend to overfit the data. For decision trees, the best hyperparameter for max_depth is $4$. \n",
    "\n",
    "The above plot indicates that some variables are more important than others. Let us choose those variables to retrain our decision tree model. "
   ]
  },
  {
   "cell_type": "code",
   "execution_count": 217,
   "metadata": {},
   "outputs": [
    {
     "name": "stdout",
     "output_type": "stream",
     "text": [
      "The RMSE on the traing set is 1.3995553769188247\n",
      "The RMSE on the test set is 2.51248964292331\n"
     ]
    },
    {
     "data": {
      "image/png": "[encoded data removed]",
      "text/plain": [
       "<Figure size 900x288 with 1 Axes>"
      ]
     },
     "metadata": {
      "needs_background": "light"
     },
     "output_type": "display_data"
    }
   ],
   "source": [
    "#train a decision tree model with max_depth=4\n",
    "model=DecisionTreeRegressor(max_depth=4)\n",
    "stats_1=['Length of Contract', 'MP', 'FT', 'FTA', 'TRB', 'MP_1', 'PER', 'FTr', 'AST%', 'WS']\n",
    "salary_prediction(model, stats_1)"
   ]
  },
  {
   "cell_type": "markdown",
   "metadata": {},
   "source": [
    "We see that the performance of this model is almost identical with the one where we use all variables. This is useful in practice because it helps our team focus on the more important features when hiring a new player."
   ]
  },
  {
   "cell_type": "markdown",
   "metadata": {},
   "source": [
    "# Part 3.4: Random Forest"
   ]
  },
  {
   "cell_type": "markdown",
   "metadata": {},
   "source": [
    "As we can see from the previous section, as soon as $n \\geq 5$, the decision tree models tend to overfit our data. To overcome this problem, we can instead train many trees with different sets of features and then take the average of these individual models. That is precisely the idea of random forests. "
   ]
  },
  {
   "cell_type": "markdown",
   "metadata": {},
   "source": [
    "Let us train a simple random forest model to our dataset. After that, we can optimize the hyperparameters by doing a GridSearch."
   ]
  },
  {
   "cell_type": "code",
   "execution_count": 220,
   "metadata": {},
   "outputs": [
    {
     "name": "stdout",
     "output_type": "stream",
     "text": [
      "The RMSE on the traing set is 1.1317312412198712\n",
      "The RMSE on the test set is 2.57089850018626\n"
     ]
    },
    {
     "data": {
      "image/png": "[encoded data removed]",
      "text/plain": [
       "<Figure size 900x288 with 1 Axes>"
      ]
     },
     "metadata": {
      "needs_background": "light"
     },
     "output_type": "display_data"
    }
   ],
   "source": [
    "#Random forest model with 10 decision trees, each has max_depth 5\n",
    "model=RandomForestRegressor(n_estimators=10, max_depth=5, n_jobs=-1)\n",
    "salary_prediction(model)"
   ]
  },
  {
   "cell_type": "markdown",
   "metadata": {},
   "source": [
    "Argurably, this is the best model so far. We wonder we can do better than this? Let us try to do a Gridsearch to find the best parameters for the Random Forest models."
   ]
  },
  {
   "cell_type": "code",
   "execution_count": 251,
   "metadata": {},
   "outputs": [],
   "source": [
    "n_estimators = [10, 20, 30, 40, 50, 60, 70, 80, 90, 100]\n",
    "max_features = ['sqrt', 'log2']\n",
    "max_depth=[3,4,5,6]\n",
    "model=RandomForestRegressor()\n",
    "grid = dict(n_estimators=n_estimators,max_features=max_features, max_depth=max_depth)\n",
    "rf_grid_search = GridSearchCV(estimator=model, param_grid=grid, n_jobs=-1, cv=5, \n",
    "                              scoring='neg_root_mean_squared_error')\n",
    "rf_result=rf_grid_search.fit(X_train, y_train)\n",
    "\n",
    "#param_distributions = random_grid, n_iter = 100, cv = 3, verbose=2, random_state=42, n_jobs = -1)"
   ]
  },
  {
   "cell_type": "code",
   "execution_count": 252,
   "metadata": {},
   "outputs": [
    {
     "name": "stdout",
     "output_type": "stream",
     "text": [
      "Best parameter is {'max_depth': 6, 'max_features': 'log2', 'n_estimators': 90}\n"
     ]
    }
   ],
   "source": [
    "print(f\"Best parameter is {rf_result.best_params_}\")"
   ]
  },
  {
   "cell_type": "markdown",
   "metadata": {},
   "source": [
    "Let us train a random forest with these parameters. "
   ]
  },
  {
   "cell_type": "code",
   "execution_count": 253,
   "metadata": {},
   "outputs": [
    {
     "name": "stdout",
     "output_type": "stream",
     "text": [
      "The RMSE on the traing set is 1.0530523196397483\n",
      "The RMSE on the test set is 2.419709723205102\n"
     ]
    },
    {
     "data": {
      "image/png": "[encoded data removed]",
      "text/plain": [
       "<Figure size 900x288 with 1 Axes>"
      ]
     },
     "metadata": {
      "needs_background": "light"
     },
     "output_type": "display_data"
    }
   ],
   "source": [
    "model=RandomForestRegressor(max_depth=6, max_features='log2', n_estimators=90)\n",
    "salary_prediction(model)"
   ]
  },
  {
   "cell_type": "markdown",
   "metadata": {},
   "source": [
    "This is a pretty good model!  We also see that the most important features are PER, OWS, PTS, WS. Additionlly, the postion does not seem to have a large impact on the salary. "
   ]
  },
  {
   "cell_type": "markdown",
   "metadata": {},
   "source": [
    "# Part 3.5: Gradient boosting models"
   ]
  },
  {
   "cell_type": "markdown",
   "metadata": {},
   "source": [
    "Random forest is an example of ensemble learning. Other than random forest, another popular ensemble method is gradient boosting. Unlike random forest where each tree is trained independently, trees are trained in sequence in gradient boosting. Each time, the model tries to catch the errors made in the previous step. Intuitively, we can think of the gradient boosting algorithm as a student who is taking a hard and long exam. First, she would go over all the questions. Then she would solve the more straightforward problems right away and save the harder ones for the latter. Note that gaining confidence and experience from solving more straightforward questions helps her to solve more challenging questions. \n",
    "\n",
    "As before, we start with a standard gradient boosting model. "
   ]
  },
  {
   "cell_type": "code",
   "execution_count": 230,
   "metadata": {},
   "outputs": [
    {
     "name": "stdout",
     "output_type": "stream",
     "text": [
      "The RMSE on the traing set is 0.2923128562759529\n",
      "The RMSE on the test set is 2.3792332186594134\n"
     ]
    },
    {
     "data": {
      "image/png": "[encoded data removed]",
      "text/plain": [
       "<Figure size 900x288 with 1 Axes>"
      ]
     },
     "metadata": {
      "needs_background": "light"
     },
     "output_type": "display_data"
    }
   ],
   "source": [
    "#Fit a gradient boosting model to the training set\n",
    "model= GradientBoostingRegressor()\n",
    "salary_prediction(model)"
   ]
  },
  {
   "cell_type": "markdown",
   "metadata": {},
   "source": [
    "This is pretty good-argurably the best model so far. Let us try to see whether we can do better by changing the learning rate and the number of estimators."
   ]
  },
  {
   "cell_type": "code",
   "execution_count": 245,
   "metadata": {},
   "outputs": [],
   "source": [
    "n_estimators = [10, 20, 30, 40, 50, 60, 70, 80, 90, 100]\n",
    "learning_rate=[0.05, 0.1, 0.15, 0.2, 0.25]\n",
    "max_features= ['sqrt', 'log2']\n",
    "grid1 = dict(n_estimators=n_estimators,max_features=max_features, learning_rate=learning_rate)\n",
    "model=GradientBoostingRegressor()\n",
    "\n",
    "#GridSearch with Cross-valuation=5\n",
    "\n",
    "gb_grid_search = GridSearchCV(estimator=model, param_grid=grid1, n_jobs=-1, cv=5, \n",
    "                              scoring='neg_root_mean_squared_error')\n",
    "gb_result=gb_grid_search.fit(X_train, y_train)"
   ]
  },
  {
   "cell_type": "code",
   "execution_count": 246,
   "metadata": {},
   "outputs": [
    {
     "name": "stdout",
     "output_type": "stream",
     "text": [
      "Best parameter is {'learning_rate': 0.05, 'max_features': 'sqrt', 'n_estimators': 100}\n"
     ]
    }
   ],
   "source": [
    "print(f\"Best parameter is {gb_result.best_params_}\")"
   ]
  },
  {
   "cell_type": "markdown",
   "metadata": {},
   "source": [
    "Let us use this best set of hyperparameters to train a new model.  "
   ]
  },
  {
   "cell_type": "code",
   "execution_count": 247,
   "metadata": {},
   "outputs": [
    {
     "name": "stdout",
     "output_type": "stream",
     "text": [
      "The RMSE on the traing set is 0.7321066465227197\n",
      "The RMSE on the test set is 2.177718476244593\n"
     ]
    },
    {
     "data": {
      "image/png": "[encoded data removed]",
      "text/plain": [
       "<Figure size 900x288 with 1 Axes>"
      ]
     },
     "metadata": {
      "needs_background": "light"
     },
     "output_type": "display_data"
    }
   ],
   "source": [
    "#Fit a gradient boosting model to the training set\n",
    "model = GradientBoostingRegressor(max_features='sqrt', learning_rate=0.05, n_estimators=100)\n",
    "salary_prediction(model)"
   ]
  },
  {
   "cell_type": "markdown",
   "metadata": {},
   "source": [
    "The test score for this model is better. This indicates that this new model is less likely to overfit our data. Again, we see that the some of the most important features are PER, FT, 2P, OWS, WS. "
   ]
  },
  {
   "cell_type": "markdown",
   "metadata": {},
   "source": [
    "# Part 3.6: Summary of our models."
   ]
  },
  {
   "cell_type": "markdown",
   "metadata": {},
   "source": [
    "Here is the summary of our models'performances. It is reasonable to conclude that Gradient Boosting(max_features='sqrt', n_estimators=60) performs the best on this dataset. "
   ]
  },
  {
   "cell_type": "code",
   "execution_count": 257,
   "metadata": {},
   "outputs": [
    {
     "data": {
      "text/html": [
       "<div>\n",
       "<style scoped>\n",
       "    .dataframe tbody tr th:only-of-type {\n",
       "        vertical-align: middle;\n",
       "    }\n",
       "\n",
       "    .dataframe tbody tr th {\n",
       "        vertical-align: top;\n",
       "    }\n",
       "\n",
       "    .dataframe thead th {\n",
       "        text-align: right;\n",
       "    }\n",
       "</style>\n",
       "<table border=\"1\" class=\"dataframe\">\n",
       "  <thead>\n",
       "    <tr style=\"text-align: right;\">\n",
       "      <th></th>\n",
       "      <th>Models</th>\n",
       "      <th>Train_error</th>\n",
       "      <th>Test_error</th>\n",
       "      <th>Remark</th>\n",
       "    </tr>\n",
       "  </thead>\n",
       "  <tbody>\n",
       "    <tr>\n",
       "      <th>0</th>\n",
       "      <td>Linear Regression</td>\n",
       "      <td>1.69</td>\n",
       "      <td>3.00</td>\n",
       "      <td>NaN</td>\n",
       "    </tr>\n",
       "    <tr>\n",
       "      <th>1</th>\n",
       "      <td>Ridge</td>\n",
       "      <td>1.76</td>\n",
       "      <td>3.00</td>\n",
       "      <td>NaN</td>\n",
       "    </tr>\n",
       "    <tr>\n",
       "      <th>2</th>\n",
       "      <td>KNN</td>\n",
       "      <td>1.71</td>\n",
       "      <td>2.83</td>\n",
       "      <td>n=3</td>\n",
       "    </tr>\n",
       "    <tr>\n",
       "      <th>3</th>\n",
       "      <td>Decision Tree</td>\n",
       "      <td>1.39</td>\n",
       "      <td>2.54</td>\n",
       "      <td>max_depth=4</td>\n",
       "    </tr>\n",
       "    <tr>\n",
       "      <th>4</th>\n",
       "      <td>Random forst</td>\n",
       "      <td>1.17</td>\n",
       "      <td>2.45</td>\n",
       "      <td>max_depth= 6, max_features= log2, n_estimators...</td>\n",
       "    </tr>\n",
       "    <tr>\n",
       "      <th>5</th>\n",
       "      <td>GradientBoostingRegressor</td>\n",
       "      <td>0.73</td>\n",
       "      <td>2.17</td>\n",
       "      <td>max_features='sqrt', learning_rate=0.05, n_est...</td>\n",
       "    </tr>\n",
       "  </tbody>\n",
       "</table>\n",
       "</div>"
      ],
      "text/plain": [
       "                      Models  Train_error  Test_error  \\\n",
       "0          Linear Regression         1.69        3.00   \n",
       "1                     Ridge          1.76        3.00   \n",
       "2                       KNN          1.71        2.83   \n",
       "3              Decision Tree         1.39        2.54   \n",
       "4               Random forst         1.17        2.45   \n",
       "5  GradientBoostingRegressor         0.73        2.17   \n",
       "\n",
       "                                              Remark  \n",
       "0                                                NaN  \n",
       "1                                                NaN  \n",
       "2                                                n=3  \n",
       "3                                        max_depth=4  \n",
       "4  max_depth= 6, max_features= log2, n_estimators...  \n",
       "5  max_features='sqrt', learning_rate=0.05, n_est...  "
      ]
     },
     "execution_count": 257,
     "metadata": {},
     "output_type": "execute_result"
    }
   ],
   "source": [
    "result=pd.read_excel('NBA salary_results.xlsx')\n",
    "result"
   ]
  },
  {
   "cell_type": "code",
   "execution_count": 264,
   "metadata": {},
   "outputs": [
    {
     "data": {
      "image/png": "[encoded data removed]",
      "text/plain": [
       "<Figure size 900x432 with 1 Axes>"
      ]
     },
     "metadata": {
      "needs_background": "light"
     },
     "output_type": "display_data"
    }
   ],
   "source": [
    "figsize(12.5, 6)\n",
    "bar=result.plot(x='Models', y=['Train_error', 'Test_error'], kind='bar')\n",
    "bar.set_xticklabels(bar.get_xticklabels(), rotation=45, horizontalalignment='right')\n",
    "plt.title('Recall scores for training and test sets')\n",
    "plt.ylabel('Recall score')\n",
    "plt.show()"
   ]
  },
  {
   "cell_type": "markdown",
   "metadata": {},
   "source": [
    "We see that Random Forest and Gradient Boosting models are the best. "
   ]
  },
  {
   "cell_type": "markdown",
   "metadata": {},
   "source": [
    "# Part 4: Conclusions. "
   ]
  },
  {
   "cell_type": "markdown",
   "metadata": {},
   "source": [
    "We discovered the following. \n",
    "\n",
    "* On average, NBA players make about 5.85 million dollars per season (remember: this is around 2010s). The top 5 salaries go to Kobe Bryant, Carmelo Anthony, Paul Gasol, Blake Griffin. \n",
    "\n",
    "\n",
    "* It seems that Forward Players are paid slightly more than players at other positions. However, the difference is not significant. \n",
    "\n",
    "\n",
    "* The top 3 teams that paid most to its players  (on average) are Boston Celtics, Brooklyn Nets, Chicago Bulls.  \n",
    "\n",
    "\n",
    "* Most players sign a 2-4 year contract. It also appears that a longer contract means a higher salary. \n",
    "\n",
    "\n",
    "* Quentin Richardson is paid the most for every minute he played (but he only played one game!). The majority of players earn about 2k-5k for every minute played. \n",
    "\n",
    "\n",
    "* Kobe Bryant, Lebron James, and Dwyane Wade are probably the most efficient players. On average, it only takes them 3.76, 3.86, 3.90, respectively, to make a shoot. \n",
    "\n",
    "\n",
    "* LaMarcus Aldridge, Kevin Garnett, and Steve Novak are the top 3 most effective at shooting beyond the 3-point line. Their rates of success are 0.5, 0.5, and 0.48 respectively. \n",
    "\n",
    "\n",
    "* It is statistically evident that the success rate for free throws is in the range 70-80%. \n",
    "\n",
    "\n",
    "* The top 5 scorers are Lebron James, Kevin Durant, Dwyane Wade, Kevin Love, Danny Granger. On average, they make about 26 points per game. \n",
    "\n",
    "\n",
    "* It also appears that on average, Forward and Guard earns more points than Center (11 vs. 8 points per game.)\n",
    "\n",
    "\n",
    "* Most players'ages are in the range 22-27. \n",
    "\n",
    "\n",
    "* A player's salary is largely influenced by the following stats: PER (player efficiency rating), FG (Field Goal shots per game), 2P (average two points made per game), FT (Free throws), PTS (points scored per game.) \n",
    "\n",
    "\n",
    "\n",
    "* Our best model for this problem is the Gradient Boosting Model with max_feature='sqrt' with 10 estimators. With this model, the training and test sets' errors are 0.73 (millions) and 2.17 (millions), respectively. The second best model is the Random Forest model. \n",
    "\n",
    "\n",
    "* Finally, of course, we can improve the accuracy of our models if more information is available. The reason is that a player's salary is not only a function of his ability. There are many other factors that we should consider such as his salary negotiation, his brand name, etc. "
   ]
  }
 ],
 "metadata": {
  "kernelspec": {
   "display_name": "Python 3",
   "language": "python",
   "name": "python3"
  },
  "language_info": {
   "codemirror_mode": {
    "name": "ipython",
    "version": 3
   },
   "file_extension": ".py",
   "mimetype": "text/x-python",
   "name": "python",
   "nbconvert_exporter": "python",
   "pygments_lexer": "ipython3",
   "version": "3.8.3"
  }
 },
 "nbformat": 4,
 "nbformat_minor": 2
}
